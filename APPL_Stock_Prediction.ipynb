{
 "cells": [
  {
   "cell_type": "code",
   "execution_count": 1,
   "id": "dde7b2a0",
   "metadata": {},
   "outputs": [],
   "source": [
    "# We have used the dataset from  https://www.tiingo.com/. We need to sign in to get the Api "
   ]
  },
  {
   "cell_type": "code",
   "execution_count": 11,
   "id": "cbf1b341",
   "metadata": {},
   "outputs": [],
   "source": [
    "import tensorflow as tf\n",
    "import pandas_datareader as pdr\n",
    "import pandas as pd\n",
    "import numpy as np\n",
    "import matplotlib.pyplot as plt\n",
    "import seaborn as sns\n",
    "import math\n",
    "import datetime\n",
    "\n"
   ]
  },
  {
   "cell_type": "code",
   "execution_count": 3,
   "id": "55e204ea",
   "metadata": {},
   "outputs": [],
   "source": [
    "appl_data= pdr.get_data_tiingo('AAPL', api_key='e74b03509c582dfc99e2a06c2e24346f68946407')"
   ]
  },
  {
   "cell_type": "code",
   "execution_count": 4,
   "id": "972847de",
   "metadata": {},
   "outputs": [],
   "source": [
    "appl_data.to_csv(\"AAPL.csv\")"
   ]
  },
  {
   "cell_type": "code",
   "execution_count": 5,
   "id": "68d5949f",
   "metadata": {},
   "outputs": [
    {
     "data": {
      "text/html": [
       "<div>\n",
       "<style scoped>\n",
       "    .dataframe tbody tr th:only-of-type {\n",
       "        vertical-align: middle;\n",
       "    }\n",
       "\n",
       "    .dataframe tbody tr th {\n",
       "        vertical-align: top;\n",
       "    }\n",
       "\n",
       "    .dataframe thead th {\n",
       "        text-align: right;\n",
       "    }\n",
       "</style>\n",
       "<table border=\"1\" class=\"dataframe\">\n",
       "  <thead>\n",
       "    <tr style=\"text-align: right;\">\n",
       "      <th></th>\n",
       "      <th>symbol</th>\n",
       "      <th>date</th>\n",
       "      <th>close</th>\n",
       "      <th>high</th>\n",
       "      <th>low</th>\n",
       "      <th>open</th>\n",
       "      <th>volume</th>\n",
       "      <th>adjClose</th>\n",
       "      <th>adjHigh</th>\n",
       "      <th>adjLow</th>\n",
       "      <th>adjOpen</th>\n",
       "      <th>adjVolume</th>\n",
       "      <th>divCash</th>\n",
       "      <th>splitFactor</th>\n",
       "    </tr>\n",
       "  </thead>\n",
       "  <tbody>\n",
       "    <tr>\n",
       "      <th>0</th>\n",
       "      <td>AAPL</td>\n",
       "      <td>2016-04-18 00:00:00+00:00</td>\n",
       "      <td>107.48</td>\n",
       "      <td>108.95</td>\n",
       "      <td>106.94</td>\n",
       "      <td>108.89</td>\n",
       "      <td>60821461</td>\n",
       "      <td>24.987674</td>\n",
       "      <td>25.329430</td>\n",
       "      <td>24.862132</td>\n",
       "      <td>25.315481</td>\n",
       "      <td>243285844</td>\n",
       "      <td>0.0</td>\n",
       "      <td>1.0</td>\n",
       "    </tr>\n",
       "    <tr>\n",
       "      <th>1</th>\n",
       "      <td>AAPL</td>\n",
       "      <td>2016-04-19 00:00:00+00:00</td>\n",
       "      <td>106.91</td>\n",
       "      <td>108.00</td>\n",
       "      <td>106.23</td>\n",
       "      <td>107.88</td>\n",
       "      <td>32384879</td>\n",
       "      <td>24.855157</td>\n",
       "      <td>25.108568</td>\n",
       "      <td>24.697066</td>\n",
       "      <td>25.080669</td>\n",
       "      <td>129539516</td>\n",
       "      <td>0.0</td>\n",
       "      <td>1.0</td>\n",
       "    </tr>\n",
       "    <tr>\n",
       "      <th>2</th>\n",
       "      <td>AAPL</td>\n",
       "      <td>2016-04-20 00:00:00+00:00</td>\n",
       "      <td>107.13</td>\n",
       "      <td>108.09</td>\n",
       "      <td>106.06</td>\n",
       "      <td>106.64</td>\n",
       "      <td>30611030</td>\n",
       "      <td>24.906304</td>\n",
       "      <td>25.129491</td>\n",
       "      <td>24.657543</td>\n",
       "      <td>24.792386</td>\n",
       "      <td>122444120</td>\n",
       "      <td>0.0</td>\n",
       "      <td>1.0</td>\n",
       "    </tr>\n",
       "    <tr>\n",
       "      <th>3</th>\n",
       "      <td>AAPL</td>\n",
       "      <td>2016-04-21 00:00:00+00:00</td>\n",
       "      <td>105.97</td>\n",
       "      <td>106.93</td>\n",
       "      <td>105.52</td>\n",
       "      <td>106.93</td>\n",
       "      <td>31552525</td>\n",
       "      <td>24.636619</td>\n",
       "      <td>24.859807</td>\n",
       "      <td>24.532000</td>\n",
       "      <td>24.859807</td>\n",
       "      <td>126210100</td>\n",
       "      <td>0.0</td>\n",
       "      <td>1.0</td>\n",
       "    </tr>\n",
       "    <tr>\n",
       "      <th>4</th>\n",
       "      <td>AAPL</td>\n",
       "      <td>2016-04-22 00:00:00+00:00</td>\n",
       "      <td>105.68</td>\n",
       "      <td>106.48</td>\n",
       "      <td>104.62</td>\n",
       "      <td>105.01</td>\n",
       "      <td>33683121</td>\n",
       "      <td>24.569198</td>\n",
       "      <td>24.755188</td>\n",
       "      <td>24.322762</td>\n",
       "      <td>24.413432</td>\n",
       "      <td>134732484</td>\n",
       "      <td>0.0</td>\n",
       "      <td>1.0</td>\n",
       "    </tr>\n",
       "  </tbody>\n",
       "</table>\n",
       "</div>"
      ],
      "text/plain": [
       "  symbol                       date   close    high     low    open    volume  \\\n",
       "0   AAPL  2016-04-18 00:00:00+00:00  107.48  108.95  106.94  108.89  60821461   \n",
       "1   AAPL  2016-04-19 00:00:00+00:00  106.91  108.00  106.23  107.88  32384879   \n",
       "2   AAPL  2016-04-20 00:00:00+00:00  107.13  108.09  106.06  106.64  30611030   \n",
       "3   AAPL  2016-04-21 00:00:00+00:00  105.97  106.93  105.52  106.93  31552525   \n",
       "4   AAPL  2016-04-22 00:00:00+00:00  105.68  106.48  104.62  105.01  33683121   \n",
       "\n",
       "    adjClose    adjHigh     adjLow    adjOpen  adjVolume  divCash  splitFactor  \n",
       "0  24.987674  25.329430  24.862132  25.315481  243285844      0.0          1.0  \n",
       "1  24.855157  25.108568  24.697066  25.080669  129539516      0.0          1.0  \n",
       "2  24.906304  25.129491  24.657543  24.792386  122444120      0.0          1.0  \n",
       "3  24.636619  24.859807  24.532000  24.859807  126210100      0.0          1.0  \n",
       "4  24.569198  24.755188  24.322762  24.413432  134732484      0.0          1.0  "
      ]
     },
     "execution_count": 5,
     "metadata": {},
     "output_type": "execute_result"
    }
   ],
   "source": [
    "appl_data= pd.read_csv(\"AAPL.csv\")\n",
    "appl_data.head()"
   ]
  },
  {
   "cell_type": "code",
   "execution_count": 6,
   "id": "a3669cc2",
   "metadata": {},
   "outputs": [
    {
     "data": {
      "text/html": [
       "<div>\n",
       "<style scoped>\n",
       "    .dataframe tbody tr th:only-of-type {\n",
       "        vertical-align: middle;\n",
       "    }\n",
       "\n",
       "    .dataframe tbody tr th {\n",
       "        vertical-align: top;\n",
       "    }\n",
       "\n",
       "    .dataframe thead th {\n",
       "        text-align: right;\n",
       "    }\n",
       "</style>\n",
       "<table border=\"1\" class=\"dataframe\">\n",
       "  <thead>\n",
       "    <tr style=\"text-align: right;\">\n",
       "      <th></th>\n",
       "      <th>symbol</th>\n",
       "      <th>date</th>\n",
       "      <th>close</th>\n",
       "      <th>high</th>\n",
       "      <th>low</th>\n",
       "      <th>open</th>\n",
       "      <th>volume</th>\n",
       "      <th>adjClose</th>\n",
       "      <th>adjHigh</th>\n",
       "      <th>adjLow</th>\n",
       "      <th>adjOpen</th>\n",
       "      <th>adjVolume</th>\n",
       "      <th>divCash</th>\n",
       "      <th>splitFactor</th>\n",
       "    </tr>\n",
       "  </thead>\n",
       "  <tbody>\n",
       "    <tr>\n",
       "      <th>1254</th>\n",
       "      <td>AAPL</td>\n",
       "      <td>2021-04-12 00:00:00+00:00</td>\n",
       "      <td>131.24</td>\n",
       "      <td>132.85</td>\n",
       "      <td>130.630</td>\n",
       "      <td>132.52</td>\n",
       "      <td>91419983</td>\n",
       "      <td>131.24</td>\n",
       "      <td>132.85</td>\n",
       "      <td>130.630</td>\n",
       "      <td>132.52</td>\n",
       "      <td>91419983</td>\n",
       "      <td>0.0</td>\n",
       "      <td>1.0</td>\n",
       "    </tr>\n",
       "    <tr>\n",
       "      <th>1255</th>\n",
       "      <td>AAPL</td>\n",
       "      <td>2021-04-13 00:00:00+00:00</td>\n",
       "      <td>134.43</td>\n",
       "      <td>134.66</td>\n",
       "      <td>131.930</td>\n",
       "      <td>132.44</td>\n",
       "      <td>91266545</td>\n",
       "      <td>134.43</td>\n",
       "      <td>134.66</td>\n",
       "      <td>131.930</td>\n",
       "      <td>132.44</td>\n",
       "      <td>91266545</td>\n",
       "      <td>0.0</td>\n",
       "      <td>1.0</td>\n",
       "    </tr>\n",
       "    <tr>\n",
       "      <th>1256</th>\n",
       "      <td>AAPL</td>\n",
       "      <td>2021-04-14 00:00:00+00:00</td>\n",
       "      <td>132.03</td>\n",
       "      <td>135.00</td>\n",
       "      <td>131.655</td>\n",
       "      <td>134.94</td>\n",
       "      <td>87222782</td>\n",
       "      <td>132.03</td>\n",
       "      <td>135.00</td>\n",
       "      <td>131.655</td>\n",
       "      <td>134.94</td>\n",
       "      <td>87222782</td>\n",
       "      <td>0.0</td>\n",
       "      <td>1.0</td>\n",
       "    </tr>\n",
       "    <tr>\n",
       "      <th>1257</th>\n",
       "      <td>AAPL</td>\n",
       "      <td>2021-04-15 00:00:00+00:00</td>\n",
       "      <td>134.50</td>\n",
       "      <td>135.00</td>\n",
       "      <td>133.640</td>\n",
       "      <td>133.82</td>\n",
       "      <td>89347102</td>\n",
       "      <td>134.50</td>\n",
       "      <td>135.00</td>\n",
       "      <td>133.640</td>\n",
       "      <td>133.82</td>\n",
       "      <td>89347102</td>\n",
       "      <td>0.0</td>\n",
       "      <td>1.0</td>\n",
       "    </tr>\n",
       "    <tr>\n",
       "      <th>1258</th>\n",
       "      <td>AAPL</td>\n",
       "      <td>2021-04-16 00:00:00+00:00</td>\n",
       "      <td>134.16</td>\n",
       "      <td>134.67</td>\n",
       "      <td>133.280</td>\n",
       "      <td>134.30</td>\n",
       "      <td>84922386</td>\n",
       "      <td>134.16</td>\n",
       "      <td>134.67</td>\n",
       "      <td>133.280</td>\n",
       "      <td>134.30</td>\n",
       "      <td>84922386</td>\n",
       "      <td>0.0</td>\n",
       "      <td>1.0</td>\n",
       "    </tr>\n",
       "  </tbody>\n",
       "</table>\n",
       "</div>"
      ],
      "text/plain": [
       "     symbol                       date   close    high      low    open  \\\n",
       "1254   AAPL  2021-04-12 00:00:00+00:00  131.24  132.85  130.630  132.52   \n",
       "1255   AAPL  2021-04-13 00:00:00+00:00  134.43  134.66  131.930  132.44   \n",
       "1256   AAPL  2021-04-14 00:00:00+00:00  132.03  135.00  131.655  134.94   \n",
       "1257   AAPL  2021-04-15 00:00:00+00:00  134.50  135.00  133.640  133.82   \n",
       "1258   AAPL  2021-04-16 00:00:00+00:00  134.16  134.67  133.280  134.30   \n",
       "\n",
       "        volume  adjClose  adjHigh   adjLow  adjOpen  adjVolume  divCash  \\\n",
       "1254  91419983    131.24   132.85  130.630   132.52   91419983      0.0   \n",
       "1255  91266545    134.43   134.66  131.930   132.44   91266545      0.0   \n",
       "1256  87222782    132.03   135.00  131.655   134.94   87222782      0.0   \n",
       "1257  89347102    134.50   135.00  133.640   133.82   89347102      0.0   \n",
       "1258  84922386    134.16   134.67  133.280   134.30   84922386      0.0   \n",
       "\n",
       "      splitFactor  \n",
       "1254          1.0  \n",
       "1255          1.0  \n",
       "1256          1.0  \n",
       "1257          1.0  \n",
       "1258          1.0  "
      ]
     },
     "execution_count": 6,
     "metadata": {},
     "output_type": "execute_result"
    }
   ],
   "source": [
    "appl_data.tail()"
   ]
  },
  {
   "cell_type": "code",
   "execution_count": 7,
   "id": "1de4f254",
   "metadata": {
    "collapsed": true
   },
   "outputs": [
    {
     "data": {
      "text/plain": [
       "symbol         False\n",
       "date           False\n",
       "close          False\n",
       "high           False\n",
       "low            False\n",
       "open           False\n",
       "volume         False\n",
       "adjClose       False\n",
       "adjHigh        False\n",
       "adjLow         False\n",
       "adjOpen        False\n",
       "adjVolume      False\n",
       "divCash        False\n",
       "splitFactor    False\n",
       "dtype: bool"
      ]
     },
     "execution_count": 7,
     "metadata": {},
     "output_type": "execute_result"
    }
   ],
   "source": [
    "appl_data.isna().any()"
   ]
  },
  {
   "cell_type": "code",
   "execution_count": 13,
   "id": "a4ba0327",
   "metadata": {},
   "outputs": [
    {
     "data": {
      "text/plain": [
       "<AxesSubplot:>"
      ]
     },
     "execution_count": 13,
     "metadata": {},
     "output_type": "execute_result"
    },
    {
     "data": {
      "image/png": "[encoded data removed]",
      "text/plain": [
       "<Figure size 1152x432 with 1 Axes>"
      ]
     },
     "metadata": {
      "needs_background": "light"
     },
     "output_type": "display_data"
    }
   ],
   "source": [
    "plt.figure(figsize=(16,6))\n",
    "sns.heatmap(appl_data.isnull(),yticklabels= False, cbar= False,cmap='viridis' )"
   ]
  },
  {
   "cell_type": "code",
   "execution_count": 7,
   "id": "8e826335",
   "metadata": {},
   "outputs": [
    {
     "name": "stdout",
     "output_type": "stream",
     "text": [
      "<class 'pandas.core.frame.DataFrame'>\n",
      "RangeIndex: 1257 entries, 0 to 1256\n",
      "Data columns (total 14 columns):\n",
      " #   Column       Non-Null Count  Dtype  \n",
      "---  ------       --------------  -----  \n",
      " 0   symbol       1257 non-null   object \n",
      " 1   date         1257 non-null   object \n",
      " 2   close        1257 non-null   float64\n",
      " 3   high         1257 non-null   float64\n",
      " 4   low          1257 non-null   float64\n",
      " 5   open         1257 non-null   float64\n",
      " 6   volume       1257 non-null   int64  \n",
      " 7   adjClose     1257 non-null   float64\n",
      " 8   adjHigh      1257 non-null   float64\n",
      " 9   adjLow       1257 non-null   float64\n",
      " 10  adjOpen      1257 non-null   float64\n",
      " 11  adjVolume    1257 non-null   int64  \n",
      " 12  divCash      1257 non-null   float64\n",
      " 13  splitFactor  1257 non-null   float64\n",
      "dtypes: float64(10), int64(2), object(2)\n",
      "memory usage: 137.6+ KB\n"
     ]
    }
   ],
   "source": [
    "appl_data.info()"
   ]
  },
  {
   "cell_type": "code",
   "execution_count": 8,
   "id": "9fca2a8a",
   "metadata": {
    "collapsed": true
   },
   "outputs": [
    {
     "data": {
      "text/plain": [
       "<AxesSubplot:>"
      ]
     },
     "execution_count": 8,
     "metadata": {},
     "output_type": "execute_result"
    },
    {
     "data": {
      "image/png": "[encoded data removed]",
      "text/plain": [
       "<Figure size 1152x432 with 1 Axes>"
      ]
     },
     "metadata": {
      "needs_background": "light"
     },
     "output_type": "display_data"
    }
   ],
   "source": [
    "appl_data['open'].plot(figsize=(16,6))"
   ]
  },
  {
   "cell_type": "code",
   "execution_count": 9,
   "id": "67758f44",
   "metadata": {},
   "outputs": [
    {
     "data": {
      "text/plain": [
       "(1257, 14)"
      ]
     },
     "execution_count": 9,
     "metadata": {},
     "output_type": "execute_result"
    }
   ],
   "source": [
    "appl_data.shape"
   ]
  },
  {
   "cell_type": "code",
   "execution_count": 10,
   "id": "020196ed",
   "metadata": {},
   "outputs": [],
   "source": [
    "appl_data1= appl_data.reset_index()['close']"
   ]
  },
  {
   "cell_type": "code",
   "execution_count": 11,
   "id": "38cee05e",
   "metadata": {
    "collapsed": true
   },
   "outputs": [
    {
     "data": {
      "text/plain": [
       "[<matplotlib.lines.Line2D at 0x249b9c39c10>]"
      ]
     },
     "execution_count": 11,
     "metadata": {},
     "output_type": "execute_result"
    },
    {
     "data": {
      "image/png": "[encoded data removed]",
      "text/plain": [
       "<Figure size 432x288 with 1 Axes>"
      ]
     },
     "metadata": {
      "needs_background": "light"
     },
     "output_type": "display_data"
    }
   ],
   "source": [
    "plt.plot(appl_data1)"
   ]
  },
  {
   "cell_type": "code",
   "execution_count": 12,
   "id": "d2c2961d",
   "metadata": {},
   "outputs": [],
   "source": [
    "from sklearn.preprocessing import MinMaxScaler\n",
    "scaler=MinMaxScaler(feature_range=(0,1))\n",
    "appl_data1_scaled= scaler.fit_transform(np.array(appl_data1).reshape(-1,1))"
   ]
  },
  {
   "cell_type": "code",
   "execution_count": 13,
   "id": "3301ced1",
   "metadata": {},
   "outputs": [
    {
     "data": {
      "text/plain": [
       "(1257, 1)"
      ]
     },
     "execution_count": 13,
     "metadata": {},
     "output_type": "execute_result"
    }
   ],
   "source": [
    "appl_data1_scaled.shape"
   ]
  },
  {
   "cell_type": "code",
   "execution_count": 14,
   "id": "daccd971",
   "metadata": {},
   "outputs": [],
   "source": [
    "training_size=int(len(appl_data1_scaled)*0.65)\n",
    "test_size= len(appl_data1_scaled)-training_size\n",
    "train_data,test_data= appl_data1_scaled[0:training_size,:],appl_data1_scaled[training_size:len(appl_data1_scaled),:1]"
   ]
  },
  {
   "cell_type": "code",
   "execution_count": 15,
   "id": "7c7cd0ab",
   "metadata": {},
   "outputs": [],
   "source": [
    "import numpy\n",
    "def create_dataset(dataset,time_step=1):\n",
    "    dataX, dataY= [], []\n",
    "    for i in range(len(dataset)-time_step-1):\n",
    "        a= dataset[i:(i+time_step),0]\n",
    "        dataX.append(a)\n",
    "        dataY.append(dataset[i+time_step,0])\n",
    "    return numpy.array(dataX),numpy.array(dataY)    "
   ]
  },
  {
   "cell_type": "code",
   "execution_count": 16,
   "id": "4e34689e",
   "metadata": {},
   "outputs": [],
   "source": [
    "time_step=100\n",
    "x_train, y_train= create_dataset(train_data, time_step)\n",
    "x_test, y_test = create_dataset(test_data,time_step)"
   ]
  },
  {
   "cell_type": "code",
   "execution_count": 17,
   "id": "2b024a19",
   "metadata": {},
   "outputs": [
    {
     "name": "stdout",
     "output_type": "stream",
     "text": [
      "[[0.04692724 0.0412267  0.03985568 ... 0.03942273 0.04182802 0.04175586]\n",
      " [0.0412267  0.03985568 0.04038485 ... 0.04182802 0.04175586 0.04334336]\n",
      " [0.03985568 0.04038485 0.03759471 ... 0.04175586 0.04334336 0.03651233]\n",
      " ...\n",
      " [0.19352977 0.19261575 0.19384245 ... 0.27393867 0.26381239 0.26674684]\n",
      " [0.19261575 0.19384245 0.19648827 ... 0.26381239 0.26674684 0.27153337]\n",
      " [0.19384245 0.19648827 0.19415514 ... 0.26674684 0.27153337 0.26797354]]\n"
     ]
    }
   ],
   "source": [
    "print(x_train)"
   ]
  },
  {
   "cell_type": "code",
   "execution_count": 18,
   "id": "f7bd3139",
   "metadata": {},
   "outputs": [
    {
     "name": "stdout",
     "output_type": "stream",
     "text": [
      "(716, 100)\n",
      "(716,)\n"
     ]
    },
    {
     "data": {
      "text/plain": [
       "(None, None)"
      ]
     },
     "execution_count": 18,
     "metadata": {},
     "output_type": "execute_result"
    }
   ],
   "source": [
    "print(x_train.shape), print(y_train.shape)"
   ]
  },
  {
   "cell_type": "code",
   "execution_count": 19,
   "id": "30154cf0",
   "metadata": {},
   "outputs": [
    {
     "name": "stdout",
     "output_type": "stream",
     "text": [
      "(339, 100)\n",
      "(339,)\n"
     ]
    },
    {
     "data": {
      "text/plain": [
       "(None, None)"
      ]
     },
     "execution_count": 19,
     "metadata": {},
     "output_type": "execute_result"
    }
   ],
   "source": [
    "print(x_test.shape), print(y_test.shape)"
   ]
  },
  {
   "cell_type": "code",
   "execution_count": 20,
   "id": "0d49dcef",
   "metadata": {},
   "outputs": [],
   "source": [
    "x_train= x_train.reshape(x_train.shape[0],x_train.shape[1],1)\n",
    "x_test=x_test.reshape(x_test.shape[0],x_test.shape[1],1)"
   ]
  },
  {
   "cell_type": "code",
   "execution_count": 21,
   "id": "d8d8090c",
   "metadata": {},
   "outputs": [],
   "source": [
    "from tensorflow.keras.models import Sequential \n",
    "from tensorflow.keras.layers import Dense\n",
    "from tensorflow.keras.layers import LSTM\n",
    "from tensorflow.keras.layers import Dropout"
   ]
  },
  {
   "cell_type": "code",
   "execution_count": 22,
   "id": "21b9d65c",
   "metadata": {},
   "outputs": [],
   "source": [
    "regressor= Sequential()\n"
   ]
  },
  {
   "cell_type": "code",
   "execution_count": 23,
   "id": "a4fea27c",
   "metadata": {},
   "outputs": [],
   "source": [
    "regressor.add(LSTM(units=50,return_sequences=True,input_shape=(100,1)))\n",
    "regressor.add(Dropout(0.3))\n",
    "\n",
    "\n",
    "regressor.add(LSTM(units=50,return_sequences=True))\n",
    "regressor.add(Dropout(0.3))\n",
    "\n",
    "regressor.add(LSTM(units=50,return_sequences=True))\n",
    "regressor.add(Dropout(0.3))\n",
    "\n",
    "regressor.add(LSTM(units=50))\n",
    "regressor.add(Dropout(0.3))\n",
    "\n",
    "\n",
    "regressor.add(Dense(units=1))"
   ]
  },
  {
   "cell_type": "code",
   "execution_count": 24,
   "id": "e36a23fd",
   "metadata": {},
   "outputs": [
    {
     "name": "stdout",
     "output_type": "stream",
     "text": [
      "Model: \"sequential\"\n",
      "_________________________________________________________________\n",
      "Layer (type)                 Output Shape              Param #   \n",
      "=================================================================\n",
      "lstm (LSTM)                  (None, 100, 50)           10400     \n",
      "_________________________________________________________________\n",
      "dropout (Dropout)            (None, 100, 50)           0         \n",
      "_________________________________________________________________\n",
      "lstm_1 (LSTM)                (None, 100, 50)           20200     \n",
      "_________________________________________________________________\n",
      "dropout_1 (Dropout)          (None, 100, 50)           0         \n",
      "_________________________________________________________________\n",
      "lstm_2 (LSTM)                (None, 100, 50)           20200     \n",
      "_________________________________________________________________\n",
      "dropout_2 (Dropout)          (None, 100, 50)           0         \n",
      "_________________________________________________________________\n",
      "lstm_3 (LSTM)                (None, 50)                20200     \n",
      "_________________________________________________________________\n",
      "dropout_3 (Dropout)          (None, 50)                0         \n",
      "_________________________________________________________________\n",
      "dense (Dense)                (None, 1)                 51        \n",
      "=================================================================\n",
      "Total params: 71,051\n",
      "Trainable params: 71,051\n",
      "Non-trainable params: 0\n",
      "_________________________________________________________________\n"
     ]
    }
   ],
   "source": [
    "regressor.summary()"
   ]
  },
  {
   "cell_type": "code",
   "execution_count": 25,
   "id": "bd0b0a98",
   "metadata": {},
   "outputs": [],
   "source": [
    "regressor.compile(loss='mean_squared_error', optimizer='adam')"
   ]
  },
  {
   "cell_type": "code",
   "execution_count": 26,
   "id": "f96c23cb",
   "metadata": {},
   "outputs": [
    {
     "name": "stdout",
     "output_type": "stream",
     "text": [
      "Epoch 1/150\n",
      "23/23 [==============================] - 13s 576ms/step - loss: 0.0083 - val_loss: 0.0453\n",
      "Epoch 2/150\n",
      "23/23 [==============================] - 10s 425ms/step - loss: 0.0022 - val_loss: 0.0317\n",
      "Epoch 3/150\n",
      "23/23 [==============================] - 10s 427ms/step - loss: 0.0013 - val_loss: 0.0256\n",
      "Epoch 4/150\n",
      "23/23 [==============================] - 10s 426ms/step - loss: 0.0011 - val_loss: 0.0244\n",
      "Epoch 5/150\n",
      "23/23 [==============================] - 10s 416ms/step - loss: 0.0011 - val_loss: 0.0242\n",
      "Epoch 6/150\n",
      "23/23 [==============================] - 10s 421ms/step - loss: 0.0011 - val_loss: 0.0238\n",
      "Epoch 7/150\n",
      "23/23 [==============================] - 9s 396ms/step - loss: 9.6225e-04 - val_loss: 0.0228\n",
      "Epoch 8/150\n",
      "23/23 [==============================] - 10s 423ms/step - loss: 9.0422e-04 - val_loss: 0.0212\n",
      "Epoch 9/150\n",
      "23/23 [==============================] - 9s 408ms/step - loss: 8.8571e-04 - val_loss: 0.0233\n",
      "Epoch 10/150\n",
      "23/23 [==============================] - 9s 409ms/step - loss: 8.5566e-04 - val_loss: 0.0219\n",
      "Epoch 11/150\n",
      "23/23 [==============================] - 10s 427ms/step - loss: 8.3557e-04 - val_loss: 0.0189\n",
      "Epoch 12/150\n",
      "23/23 [==============================] - 10s 427ms/step - loss: 7.5349e-04 - val_loss: 0.0195\n",
      "Epoch 13/150\n",
      "23/23 [==============================] - 10s 430ms/step - loss: 6.9156e-04 - val_loss: 0.0200\n",
      "Epoch 14/150\n",
      "23/23 [==============================] - 10s 414ms/step - loss: 7.7552e-04 - val_loss: 0.0184\n",
      "Epoch 15/150\n",
      "23/23 [==============================] - 9s 411ms/step - loss: 7.5635e-04 - val_loss: 0.0164\n",
      "Epoch 16/150\n",
      "23/23 [==============================] - 10s 418ms/step - loss: 7.2648e-04 - val_loss: 0.0175\n",
      "Epoch 17/150\n",
      "23/23 [==============================] - 9s 404ms/step - loss: 6.4501e-04 - val_loss: 0.0173\n",
      "Epoch 18/150\n",
      "23/23 [==============================] - 10s 456ms/step - loss: 6.3902e-04 - val_loss: 0.0154\n",
      "Epoch 19/150\n",
      "23/23 [==============================] - 10s 432ms/step - loss: 5.6766e-04 - val_loss: 0.0180\n",
      "Epoch 20/150\n",
      "23/23 [==============================] - 10s 421ms/step - loss: 6.3279e-04 - val_loss: 0.0156\n",
      "Epoch 21/150\n",
      "23/23 [==============================] - 9s 409ms/step - loss: 6.6750e-04 - val_loss: 0.0166\n",
      "Epoch 22/150\n",
      "23/23 [==============================] - 10s 421ms/step - loss: 5.7369e-04 - val_loss: 0.0142\n",
      "Epoch 23/150\n",
      "23/23 [==============================] - 10s 416ms/step - loss: 5.9626e-04 - val_loss: 0.0166\n",
      "Epoch 24/150\n",
      "23/23 [==============================] - 10s 413ms/step - loss: 5.6152e-04 - val_loss: 0.0154\n",
      "Epoch 25/150\n",
      "23/23 [==============================] - 10s 417ms/step - loss: 4.9941e-04 - val_loss: 0.0143\n",
      "Epoch 26/150\n",
      "23/23 [==============================] - 10s 417ms/step - loss: 5.3851e-04 - val_loss: 0.0144\n",
      "Epoch 27/150\n",
      "23/23 [==============================] - 10s 421ms/step - loss: 5.4408e-04 - val_loss: 0.0149\n",
      "Epoch 28/150\n",
      "23/23 [==============================] - 10s 415ms/step - loss: 5.7767e-04 - val_loss: 0.0138\n",
      "Epoch 29/150\n",
      "23/23 [==============================] - 10s 428ms/step - loss: 4.8807e-04 - val_loss: 0.0130\n",
      "Epoch 30/150\n",
      "23/23 [==============================] - 11s 458ms/step - loss: 5.1295e-04 - val_loss: 0.0157\n",
      "Epoch 31/150\n",
      "23/23 [==============================] - 10s 439ms/step - loss: 5.0099e-04 - val_loss: 0.0134\n",
      "Epoch 32/150\n",
      "23/23 [==============================] - 10s 431ms/step - loss: 4.4959e-04 - val_loss: 0.0128\n",
      "Epoch 33/150\n",
      "23/23 [==============================] - 10s 426ms/step - loss: 4.5829e-04 - val_loss: 0.0139\n",
      "Epoch 34/150\n",
      "23/23 [==============================] - 10s 424ms/step - loss: 4.5085e-04 - val_loss: 0.0126\n",
      "Epoch 35/150\n",
      "23/23 [==============================] - 10s 424ms/step - loss: 5.0628e-04 - val_loss: 0.0139\n",
      "Epoch 36/150\n",
      "23/23 [==============================] - 10s 448ms/step - loss: 4.3798e-04 - val_loss: 0.0124\n",
      "Epoch 37/150\n",
      "23/23 [==============================] - 10s 437ms/step - loss: 4.4695e-04 - val_loss: 0.0131\n",
      "Epoch 38/150\n",
      "23/23 [==============================] - 10s 436ms/step - loss: 4.5375e-04 - val_loss: 0.0125\n",
      "Epoch 39/150\n",
      "23/23 [==============================] - 10s 434ms/step - loss: 4.1383e-04 - val_loss: 0.0130\n",
      "Epoch 40/150\n",
      "23/23 [==============================] - 10s 417ms/step - loss: 4.1500e-04 - val_loss: 0.0126\n",
      "Epoch 41/150\n",
      "23/23 [==============================] - 9s 411ms/step - loss: 4.1771e-04 - val_loss: 0.0143\n",
      "Epoch 42/150\n",
      "23/23 [==============================] - 10s 417ms/step - loss: 4.8755e-04 - val_loss: 0.0112\n",
      "Epoch 43/150\n",
      "23/23 [==============================] - 10s 418ms/step - loss: 4.1708e-04 - val_loss: 0.0121\n",
      "Epoch 44/150\n",
      "23/23 [==============================] - 10s 416ms/step - loss: 4.1922e-04 - val_loss: 0.0114\n",
      "Epoch 45/150\n",
      "23/23 [==============================] - 9s 409ms/step - loss: 4.4302e-04 - val_loss: 0.0107\n",
      "Epoch 46/150\n",
      "23/23 [==============================] - 10s 424ms/step - loss: 3.7654e-04 - val_loss: 0.0108\n",
      "Epoch 47/150\n",
      "23/23 [==============================] - 10s 451ms/step - loss: 4.0619e-04 - val_loss: 0.0117\n",
      "Epoch 48/150\n",
      "23/23 [==============================] - 11s 461ms/step - loss: 3.4950e-04 - val_loss: 0.0107\n",
      "Epoch 49/150\n",
      "23/23 [==============================] - 11s 484ms/step - loss: 3.7139e-04 - val_loss: 0.0108\n",
      "Epoch 50/150\n",
      "23/23 [==============================] - 10s 440ms/step - loss: 3.7189e-04 - val_loss: 0.0100\n",
      "Epoch 51/150\n",
      "23/23 [==============================] - 10s 417ms/step - loss: 3.9447e-04 - val_loss: 0.0102\n",
      "Epoch 52/150\n",
      "23/23 [==============================] - 10s 415ms/step - loss: 3.8134e-04 - val_loss: 0.0099\n",
      "Epoch 53/150\n",
      "23/23 [==============================] - 9s 407ms/step - loss: 3.5850e-04 - val_loss: 0.0105\n",
      "Epoch 54/150\n",
      "23/23 [==============================] - 10s 416ms/step - loss: 3.8060e-04 - val_loss: 0.0099\n",
      "Epoch 55/150\n",
      "23/23 [==============================] - 11s 476ms/step - loss: 3.4028e-04 - val_loss: 0.0104\n",
      "Epoch 56/150\n",
      "23/23 [==============================] - 10s 442ms/step - loss: 3.4690e-04 - val_loss: 0.0095\n",
      "Epoch 57/150\n",
      "23/23 [==============================] - 11s 465ms/step - loss: 3.3341e-04 - val_loss: 0.0093\n",
      "Epoch 58/150\n",
      "23/23 [==============================] - 10s 428ms/step - loss: 3.4573e-04 - val_loss: 0.0093\n",
      "Epoch 59/150\n",
      "23/23 [==============================] - 10s 430ms/step - loss: 3.3310e-04 - val_loss: 0.0112\n",
      "Epoch 60/150\n",
      "23/23 [==============================] - 10s 424ms/step - loss: 3.6330e-04 - val_loss: 0.0100\n",
      "Epoch 61/150\n",
      "23/23 [==============================] - 10s 431ms/step - loss: 3.5375e-04 - val_loss: 0.0099\n",
      "Epoch 62/150\n",
      "23/23 [==============================] - 10s 422ms/step - loss: 3.1872e-04 - val_loss: 0.0094\n",
      "Epoch 63/150\n",
      "23/23 [==============================] - 10s 442ms/step - loss: 3.2395e-04 - val_loss: 0.0091\n",
      "Epoch 64/150\n",
      "23/23 [==============================] - 10s 442ms/step - loss: 3.2873e-04 - val_loss: 0.0093\n",
      "Epoch 65/150\n",
      "23/23 [==============================] - 10s 441ms/step - loss: 3.1504e-04 - val_loss: 0.0088\n",
      "Epoch 66/150\n",
      "23/23 [==============================] - 10s 432ms/step - loss: 2.9751e-04 - val_loss: 0.0092\n",
      "Epoch 67/150\n",
      "23/23 [==============================] - 10s 419ms/step - loss: 3.0792e-04 - val_loss: 0.0090\n",
      "Epoch 68/150\n",
      "23/23 [==============================] - 10s 435ms/step - loss: 2.9125e-04 - val_loss: 0.0097\n",
      "Epoch 69/150\n",
      "23/23 [==============================] - 10s 421ms/step - loss: 3.0522e-04 - val_loss: 0.0097\n",
      "Epoch 70/150\n",
      "23/23 [==============================] - 10s 415ms/step - loss: 2.8616e-04 - val_loss: 0.0086\n",
      "Epoch 71/150\n",
      "23/23 [==============================] - 9s 412ms/step - loss: 2.8903e-04 - val_loss: 0.0087\n",
      "Epoch 72/150\n",
      "23/23 [==============================] - 12s 527ms/step - loss: 3.0396e-04 - val_loss: 0.0087\n",
      "Epoch 73/150\n",
      "23/23 [==============================] - 13s 559ms/step - loss: 2.6016e-04 - val_loss: 0.0084\n",
      "Epoch 74/150\n",
      "23/23 [==============================] - 11s 470ms/step - loss: 2.9081e-04 - val_loss: 0.0087\n",
      "Epoch 75/150\n",
      "23/23 [==============================] - 10s 447ms/step - loss: 2.8785e-04 - val_loss: 0.0091\n",
      "Epoch 76/150\n",
      "23/23 [==============================] - 10s 455ms/step - loss: 2.7490e-04 - val_loss: 0.0082\n",
      "Epoch 77/150\n",
      "23/23 [==============================] - 10s 451ms/step - loss: 2.7212e-04 - val_loss: 0.0098\n"
     ]
    },
    {
     "name": "stdout",
     "output_type": "stream",
     "text": [
      "Epoch 78/150\n",
      "23/23 [==============================] - 11s 481ms/step - loss: 2.7749e-04 - val_loss: 0.0107\n",
      "Epoch 79/150\n",
      "23/23 [==============================] - 11s 464ms/step - loss: 2.4272e-04 - val_loss: 0.0081\n",
      "Epoch 80/150\n",
      "23/23 [==============================] - 11s 492ms/step - loss: 2.9372e-04 - val_loss: 0.0078\n",
      "Epoch 81/150\n",
      "23/23 [==============================] - 12s 532ms/step - loss: 2.6710e-04 - val_loss: 0.0080\n",
      "Epoch 82/150\n",
      "23/23 [==============================] - 13s 549ms/step - loss: 2.6937e-04 - val_loss: 0.0084\n",
      "Epoch 83/150\n",
      "23/23 [==============================] - 12s 507ms/step - loss: 2.9548e-04 - val_loss: 0.0101\n",
      "Epoch 84/150\n",
      "23/23 [==============================] - 10s 451ms/step - loss: 2.6060e-04 - val_loss: 0.0077\n",
      "Epoch 85/150\n",
      "23/23 [==============================] - 10s 437ms/step - loss: 2.7057e-04 - val_loss: 0.0083\n",
      "Epoch 86/150\n",
      "23/23 [==============================] - 10s 433ms/step - loss: 2.5326e-04 - val_loss: 0.0082\n",
      "Epoch 87/150\n",
      "23/23 [==============================] - 11s 461ms/step - loss: 2.2330e-04 - val_loss: 0.0076\n",
      "Epoch 88/150\n",
      "23/23 [==============================] - 10s 454ms/step - loss: 2.3943e-04 - val_loss: 0.0075\n",
      "Epoch 89/150\n",
      "23/23 [==============================] - 10s 438ms/step - loss: 2.4728e-04 - val_loss: 0.0080\n",
      "Epoch 90/150\n",
      "23/23 [==============================] - 10s 424ms/step - loss: 2.3897e-04 - val_loss: 0.0073\n",
      "Epoch 91/150\n",
      "23/23 [==============================] - 10s 428ms/step - loss: 2.2423e-04 - val_loss: 0.0076\n",
      "Epoch 92/150\n",
      "23/23 [==============================] - 10s 427ms/step - loss: 2.1812e-04 - val_loss: 0.0093\n",
      "Epoch 93/150\n",
      "23/23 [==============================] - 10s 414ms/step - loss: 2.3225e-04 - val_loss: 0.0077\n",
      "Epoch 94/150\n",
      "23/23 [==============================] - 9s 407ms/step - loss: 2.4799e-04 - val_loss: 0.0074\n",
      "Epoch 95/150\n",
      "23/23 [==============================] - 9s 411ms/step - loss: 2.1880e-04 - val_loss: 0.0076\n",
      "Epoch 96/150\n",
      "23/23 [==============================] - 9s 404ms/step - loss: 2.1748e-04 - val_loss: 0.0071\n",
      "Epoch 97/150\n",
      "23/23 [==============================] - 9s 405ms/step - loss: 2.2667e-04 - val_loss: 0.0071\n",
      "Epoch 98/150\n",
      "23/23 [==============================] - 9s 401ms/step - loss: 2.3141e-04 - val_loss: 0.0071\n",
      "Epoch 99/150\n",
      "23/23 [==============================] - 10s 417ms/step - loss: 2.1886e-04 - val_loss: 0.0066\n",
      "Epoch 100/150\n",
      "23/23 [==============================] - 10s 425ms/step - loss: 2.4142e-04 - val_loss: 0.0074\n",
      "Epoch 101/150\n",
      "23/23 [==============================] - 10s 418ms/step - loss: 2.3734e-04 - val_loss: 0.0067\n",
      "Epoch 102/150\n",
      "23/23 [==============================] - 11s 479ms/step - loss: 2.5083e-04 - val_loss: 0.0066\n",
      "Epoch 103/150\n",
      "23/23 [==============================] - 11s 498ms/step - loss: 2.9089e-04 - val_loss: 0.0068\n",
      "Epoch 104/150\n",
      "23/23 [==============================] - 10s 445ms/step - loss: 2.6819e-04 - val_loss: 0.0066\n",
      "Epoch 105/150\n",
      "23/23 [==============================] - 10s 432ms/step - loss: 2.8056e-04 - val_loss: 0.0066\n",
      "Epoch 106/150\n",
      "23/23 [==============================] - 10s 421ms/step - loss: 2.1030e-04 - val_loss: 0.0064\n",
      "Epoch 107/150\n",
      "23/23 [==============================] - 11s 464ms/step - loss: 2.1213e-04 - val_loss: 0.0062\n",
      "Epoch 108/150\n",
      "23/23 [==============================] - 12s 519ms/step - loss: 2.4578e-04 - val_loss: 0.0076\n",
      "Epoch 109/150\n",
      "23/23 [==============================] - 10s 431ms/step - loss: 2.3764e-04 - val_loss: 0.0064\n",
      "Epoch 110/150\n",
      "23/23 [==============================] - 10s 449ms/step - loss: 2.1018e-04 - val_loss: 0.0068\n",
      "Epoch 111/150\n",
      "23/23 [==============================] - 9s 408ms/step - loss: 2.2446e-04 - val_loss: 0.0059\n",
      "Epoch 112/150\n",
      "23/23 [==============================] - 9s 403ms/step - loss: 2.3173e-04 - val_loss: 0.0070\n",
      "Epoch 113/150\n",
      "23/23 [==============================] - 9s 403ms/step - loss: 2.5599e-04 - val_loss: 0.0061\n",
      "Epoch 114/150\n",
      "23/23 [==============================] - 9s 404ms/step - loss: 2.1770e-04 - val_loss: 0.0064\n",
      "Epoch 115/150\n",
      "23/23 [==============================] - 9s 399ms/step - loss: 2.1121e-04 - val_loss: 0.0058\n",
      "Epoch 116/150\n",
      "23/23 [==============================] - 9s 394ms/step - loss: 2.4796e-04 - val_loss: 0.0064\n",
      "Epoch 117/150\n",
      "23/23 [==============================] - 10s 414ms/step - loss: 2.0801e-04 - val_loss: 0.0057\n",
      "Epoch 118/150\n",
      "23/23 [==============================] - 10s 421ms/step - loss: 1.9599e-04 - val_loss: 0.0061\n",
      "Epoch 119/150\n",
      "23/23 [==============================] - 10s 418ms/step - loss: 1.8785e-04 - val_loss: 0.0063\n",
      "Epoch 120/150\n",
      "23/23 [==============================] - 9s 402ms/step - loss: 2.1179e-04 - val_loss: 0.0068\n",
      "Epoch 121/150\n",
      "23/23 [==============================] - 9s 406ms/step - loss: 2.1193e-04 - val_loss: 0.0056\n",
      "Epoch 122/150\n",
      "23/23 [==============================] - 9s 409ms/step - loss: 2.0186e-04 - val_loss: 0.0059\n",
      "Epoch 123/150\n",
      "23/23 [==============================] - 9s 406ms/step - loss: 2.1586e-04 - val_loss: 0.0062\n",
      "Epoch 124/150\n",
      "23/23 [==============================] - 9s 412ms/step - loss: 2.1181e-04 - val_loss: 0.0054\n",
      "Epoch 125/150\n",
      "23/23 [==============================] - 9s 402ms/step - loss: 2.2048e-04 - val_loss: 0.0058\n",
      "Epoch 126/150\n",
      "23/23 [==============================] - 10s 418ms/step - loss: 1.8649e-04 - val_loss: 0.0055\n",
      "Epoch 127/150\n",
      "23/23 [==============================] - 10s 414ms/step - loss: 2.1966e-04 - val_loss: 0.0079\n",
      "Epoch 128/150\n",
      "23/23 [==============================] - 10s 425ms/step - loss: 2.1261e-04 - val_loss: 0.0058\n",
      "Epoch 129/150\n",
      "23/23 [==============================] - 9s 399ms/step - loss: 1.9549e-04 - val_loss: 0.0059\n",
      "Epoch 130/150\n",
      "23/23 [==============================] - 9s 404ms/step - loss: 1.8881e-04 - val_loss: 0.0063\n",
      "Epoch 131/150\n",
      "23/23 [==============================] - 9s 403ms/step - loss: 2.3377e-04 - val_loss: 0.0055\n",
      "Epoch 132/150\n",
      "23/23 [==============================] - 9s 405ms/step - loss: 2.7566e-04 - val_loss: 0.0052\n",
      "Epoch 133/150\n",
      "23/23 [==============================] - 9s 411ms/step - loss: 1.8663e-04 - val_loss: 0.0052\n",
      "Epoch 134/150\n",
      "23/23 [==============================] - 10s 453ms/step - loss: 1.9181e-04 - val_loss: 0.0058\n",
      "Epoch 135/150\n",
      "23/23 [==============================] - 10s 420ms/step - loss: 2.0703e-04 - val_loss: 0.0060\n",
      "Epoch 136/150\n",
      "23/23 [==============================] - 10s 419ms/step - loss: 1.8768e-04 - val_loss: 0.0048\n",
      "Epoch 137/150\n",
      "23/23 [==============================] - 10s 417ms/step - loss: 2.1619e-04 - val_loss: 0.0061\n",
      "Epoch 138/150\n",
      "23/23 [==============================] - 9s 405ms/step - loss: 2.0413e-04 - val_loss: 0.0062\n",
      "Epoch 139/150\n",
      "23/23 [==============================] - 10s 442ms/step - loss: 2.1615e-04 - val_loss: 0.0049\n",
      "Epoch 140/150\n",
      "23/23 [==============================] - 11s 465ms/step - loss: 1.7864e-04 - val_loss: 0.0051\n",
      "Epoch 141/150\n",
      "23/23 [==============================] - 10s 428ms/step - loss: 2.1205e-04 - val_loss: 0.0049\n",
      "Epoch 142/150\n",
      "23/23 [==============================] - 9s 408ms/step - loss: 1.9113e-04 - val_loss: 0.0050\n",
      "Epoch 143/150\n",
      "23/23 [==============================] - 10s 440ms/step - loss: 1.8421e-04 - val_loss: 0.0046\n",
      "Epoch 144/150\n",
      "23/23 [==============================] - 10s 456ms/step - loss: 2.0218e-04 - val_loss: 0.0048\n",
      "Epoch 145/150\n",
      "23/23 [==============================] - 10s 443ms/step - loss: 1.9307e-04 - val_loss: 0.0053\n",
      "Epoch 146/150\n",
      "23/23 [==============================] - 10s 425ms/step - loss: 1.9108e-04 - val_loss: 0.0046\n",
      "Epoch 147/150\n",
      "23/23 [==============================] - 10s 422ms/step - loss: 2.0004e-04 - val_loss: 0.0068\n",
      "Epoch 148/150\n",
      "23/23 [==============================] - 10s 418ms/step - loss: 1.9116e-04 - val_loss: 0.0058\n",
      "Epoch 149/150\n",
      "23/23 [==============================] - 10s 425ms/step - loss: 1.8274e-04 - val_loss: 0.0056\n",
      "Epoch 150/150\n",
      "23/23 [==============================] - 10s 434ms/step - loss: 1.8990e-04 - val_loss: 0.0048\n"
     ]
    },
    {
     "data": {
      "text/plain": [
       "<tensorflow.python.keras.callbacks.History at 0x249bd35c9a0>"
      ]
     },
     "execution_count": 26,
     "metadata": {},
     "output_type": "execute_result"
    }
   ],
   "source": [
    "regressor.fit(x_train,y_train,validation_data=(x_test,y_test),epochs=150,batch_size=32,verbose=1)"
   ]
  },
  {
   "cell_type": "code",
   "execution_count": 27,
   "id": "72551d26",
   "metadata": {},
   "outputs": [],
   "source": [
    "train_predict=regressor.predict(x_train)\n",
    "test_predict= regressor.predict(x_test)"
   ]
  },
  {
   "cell_type": "code",
   "execution_count": 28,
   "id": "71b960c7",
   "metadata": {},
   "outputs": [],
   "source": [
    "train_predict=scaler.inverse_transform(train_predict)\n",
    "test_predict=scaler.inverse_transform(test_predict)"
   ]
  },
  {
   "cell_type": "code",
   "execution_count": 29,
   "id": "40982db1",
   "metadata": {},
   "outputs": [
    {
     "data": {
      "text/plain": [
       "167.78023878027622"
      ]
     },
     "execution_count": 29,
     "metadata": {},
     "output_type": "execute_result"
    }
   ],
   "source": [
    "import math\n",
    "from sklearn.metrics import mean_squared_error\n",
    "math.sqrt(mean_squared_error(y_train,train_predict))\n"
   ]
  },
  {
   "cell_type": "code",
   "execution_count": 30,
   "id": "d55cfadd",
   "metadata": {},
   "outputs": [
    {
     "data": {
      "text/plain": [
       "249.14604792829522"
      ]
     },
     "execution_count": 30,
     "metadata": {},
     "output_type": "execute_result"
    }
   ],
   "source": [
    "math.sqrt(mean_squared_error(y_test,test_predict))"
   ]
  },
  {
   "cell_type": "code",
   "execution_count": 31,
   "id": "cbb737f7",
   "metadata": {},
   "outputs": [
    {
     "data": {
      "image/png": "[encoded data removed]",
      "text/plain": [
       "<Figure size 432x288 with 1 Axes>"
      ]
     },
     "metadata": {
      "needs_background": "light"
     },
     "output_type": "display_data"
    }
   ],
   "source": [
    "look_back=100\n",
    "trainPredictPlot=numpy.empty_like(appl_data1_scaled)\n",
    "trainPredictPlot[:,:]= np.nan\n",
    "trainPredictPlot[look_back:len(train_predict)+ look_back,:]=train_predict\n",
    "testPredictPlot= numpy.empty_like(appl_data1_scaled)\n",
    "testPredictPlot[:,:]= numpy.nan\n",
    "testPredictPlot[len(train_predict)+(look_back*2)+1:len(appl_data1_scaled)-1,:]= test_predict\n",
    "plt.plot(scaler.inverse_transform(appl_data1_scaled))\n",
    "plt.plot(trainPredictPlot)\n",
    "plt.plot(testPredictPlot)\n",
    "plt.show()"
   ]
  },
  {
   "cell_type": "code",
   "execution_count": 32,
   "id": "3f58d517",
   "metadata": {},
   "outputs": [
    {
     "data": {
      "text/plain": [
       "440"
      ]
     },
     "execution_count": 32,
     "metadata": {},
     "output_type": "execute_result"
    }
   ],
   "source": [
    "len(test_data)"
   ]
  },
  {
   "cell_type": "code",
   "execution_count": 33,
   "id": "ede124e4",
   "metadata": {},
   "outputs": [
    {
     "data": {
      "text/plain": [
       "(1, 100)"
      ]
     },
     "execution_count": 33,
     "metadata": {},
     "output_type": "execute_result"
    }
   ],
   "source": [
    "x_input=test_data[340:].reshape(1,-1)\n",
    "x_input.shape"
   ]
  },
  {
   "cell_type": "code",
   "execution_count": 34,
   "id": "3d2e8ac0",
   "metadata": {},
   "outputs": [],
   "source": [
    "temp_input=list(x_input)\n",
    "temp_input=temp_input[0].tolist()"
   ]
  },
  {
   "cell_type": "code",
   "execution_count": 35,
   "id": "51f767d3",
   "metadata": {},
   "outputs": [
    {
     "name": "stdout",
     "output_type": "stream",
     "text": [
      "[0.09426934]\n",
      "101\n",
      "1 day input [0.06660253 0.06806975 0.06494287 0.05654841 0.05972339 0.06179194\n",
      " 0.06313891 0.06905592 0.07788334 0.07874925 0.07841251 0.07675286\n",
      " 0.08036079 0.08187613 0.07562237 0.0791341  0.0771377  0.07562237\n",
      " 0.09029465 0.09012628 0.09226699 0.08734817 0.0911365  0.09991581\n",
      " 0.09770295 0.10013229 0.11148527 0.10710764 0.10434155 0.1018641\n",
      " 0.09397474 0.09782321 0.08721587 0.09760673 0.10032471 0.09294047\n",
      " 0.09250752 0.09753458 0.0927721  0.08851473 0.09017438 0.10027661\n",
      " 0.11191822 0.11720986 0.12647023 0.1270475  0.12440168 0.11244738\n",
      " 0.10010824 0.10535177 0.10739627 0.10487072 0.11316897 0.11165364\n",
      " 0.11201443 0.10984967 0.10835839 0.10773301 0.10831028 0.10306675\n",
      " 0.09741431 0.09469633 0.09508118 0.0857727  0.08543596 0.08420926\n",
      " 0.07372219 0.07437162 0.09007817 0.08365604 0.07629585 0.07165364\n",
      " 0.07475646 0.06258569 0.07395069 0.07129284 0.07605532 0.0738184\n",
      " 0.08093806 0.08473842 0.08279014 0.07261575 0.0713169  0.07949489\n",
      " 0.07745039 0.07155743 0.07276007 0.07425135 0.07468431 0.07110042\n",
      " 0.07651233 0.07855683 0.08553217 0.08627781 0.09034275 0.09625977\n",
      " 0.10259771 0.09837643 0.10604931 0.09426934]\n",
      "1 day output [[0.09562525]]\n",
      "2 day input [0.06806975 0.06494287 0.05654841 0.05972339 0.06179194 0.06313891\n",
      " 0.06905592 0.07788334 0.07874925 0.07841251 0.07675286 0.08036079\n",
      " 0.08187613 0.07562237 0.0791341  0.0771377  0.07562237 0.09029465\n",
      " 0.09012628 0.09226699 0.08734817 0.0911365  0.09991581 0.09770295\n",
      " 0.10013229 0.11148527 0.10710764 0.10434155 0.1018641  0.09397474\n",
      " 0.09782321 0.08721587 0.09760673 0.10032471 0.09294047 0.09250752\n",
      " 0.09753458 0.0927721  0.08851473 0.09017438 0.10027661 0.11191822\n",
      " 0.11720986 0.12647023 0.1270475  0.12440168 0.11244738 0.10010824\n",
      " 0.10535177 0.10739627 0.10487072 0.11316897 0.11165364 0.11201443\n",
      " 0.10984967 0.10835839 0.10773301 0.10831028 0.10306675 0.09741431\n",
      " 0.09469633 0.09508118 0.0857727  0.08543596 0.08420926 0.07372219\n",
      " 0.07437162 0.09007817 0.08365604 0.07629585 0.07165364 0.07475646\n",
      " 0.06258569 0.07395069 0.07129284 0.07605532 0.0738184  0.08093806\n",
      " 0.08473842 0.08279014 0.07261575 0.0713169  0.07949489 0.07745039\n",
      " 0.07155743 0.07276007 0.07425135 0.07468431 0.07110042 0.07651233\n",
      " 0.07855683 0.08553217 0.08627781 0.09034275 0.09625977 0.10259771\n",
      " 0.09837643 0.10604931 0.09426934 0.09562525]\n",
      "2 day output [[0.0949958]]\n",
      "3 day input [0.06494287 0.05654841 0.05972339 0.06179194 0.06313891 0.06905592\n",
      " 0.07788334 0.07874925 0.07841251 0.07675286 0.08036079 0.08187613\n",
      " 0.07562237 0.0791341  0.0771377  0.07562237 0.09029465 0.09012628\n",
      " 0.09226699 0.08734817 0.0911365  0.09991581 0.09770295 0.10013229\n",
      " 0.11148527 0.10710764 0.10434155 0.1018641  0.09397474 0.09782321\n",
      " 0.08721587 0.09760673 0.10032471 0.09294047 0.09250752 0.09753458\n",
      " 0.0927721  0.08851473 0.09017438 0.10027661 0.11191822 0.11720986\n",
      " 0.12647023 0.1270475  0.12440168 0.11244738 0.10010824 0.10535177\n",
      " 0.10739627 0.10487072 0.11316897 0.11165364 0.11201443 0.10984967\n",
      " 0.10835839 0.10773301 0.10831028 0.10306675 0.09741431 0.09469633\n",
      " 0.09508118 0.0857727  0.08543596 0.08420926 0.07372219 0.07437162\n",
      " 0.09007817 0.08365604 0.07629585 0.07165364 0.07475646 0.06258569\n",
      " 0.07395069 0.07129284 0.07605532 0.0738184  0.08093806 0.08473842\n",
      " 0.08279014 0.07261575 0.0713169  0.07949489 0.07745039 0.07155743\n",
      " 0.07276007 0.07425135 0.07468431 0.07110042 0.07651233 0.07855683\n",
      " 0.08553217 0.08627781 0.09034275 0.09625977 0.10259771 0.09837643\n",
      " 0.10604931 0.09426934 0.09562525 0.0949958 ]\n",
      "3 day output [[0.09328326]]\n",
      "4 day input [0.05654841 0.05972339 0.06179194 0.06313891 0.06905592 0.07788334\n",
      " 0.07874925 0.07841251 0.07675286 0.08036079 0.08187613 0.07562237\n",
      " 0.0791341  0.0771377  0.07562237 0.09029465 0.09012628 0.09226699\n",
      " 0.08734817 0.0911365  0.09991581 0.09770295 0.10013229 0.11148527\n",
      " 0.10710764 0.10434155 0.1018641  0.09397474 0.09782321 0.08721587\n",
      " 0.09760673 0.10032471 0.09294047 0.09250752 0.09753458 0.0927721\n",
      " 0.08851473 0.09017438 0.10027661 0.11191822 0.11720986 0.12647023\n",
      " 0.1270475  0.12440168 0.11244738 0.10010824 0.10535177 0.10739627\n",
      " 0.10487072 0.11316897 0.11165364 0.11201443 0.10984967 0.10835839\n",
      " 0.10773301 0.10831028 0.10306675 0.09741431 0.09469633 0.09508118\n",
      " 0.0857727  0.08543596 0.08420926 0.07372219 0.07437162 0.09007817\n",
      " 0.08365604 0.07629585 0.07165364 0.07475646 0.06258569 0.07395069\n",
      " 0.07129284 0.07605532 0.0738184  0.08093806 0.08473842 0.08279014\n",
      " 0.07261575 0.0713169  0.07949489 0.07745039 0.07155743 0.07276007\n",
      " 0.07425135 0.07468431 0.07110042 0.07651233 0.07855683 0.08553217\n",
      " 0.08627781 0.09034275 0.09625977 0.10259771 0.09837643 0.10604931\n",
      " 0.09426934 0.09562525 0.0949958  0.09328326]\n",
      "4 day output [[0.09129016]]\n",
      "5 day input [0.05972339 0.06179194 0.06313891 0.06905592 0.07788334 0.07874925\n",
      " 0.07841251 0.07675286 0.08036079 0.08187613 0.07562237 0.0791341\n",
      " 0.0771377  0.07562237 0.09029465 0.09012628 0.09226699 0.08734817\n",
      " 0.0911365  0.09991581 0.09770295 0.10013229 0.11148527 0.10710764\n",
      " 0.10434155 0.1018641  0.09397474 0.09782321 0.08721587 0.09760673\n",
      " 0.10032471 0.09294047 0.09250752 0.09753458 0.0927721  0.08851473\n",
      " 0.09017438 0.10027661 0.11191822 0.11720986 0.12647023 0.1270475\n",
      " 0.12440168 0.11244738 0.10010824 0.10535177 0.10739627 0.10487072\n",
      " 0.11316897 0.11165364 0.11201443 0.10984967 0.10835839 0.10773301\n",
      " 0.10831028 0.10306675 0.09741431 0.09469633 0.09508118 0.0857727\n",
      " 0.08543596 0.08420926 0.07372219 0.07437162 0.09007817 0.08365604\n",
      " 0.07629585 0.07165364 0.07475646 0.06258569 0.07395069 0.07129284\n",
      " 0.07605532 0.0738184  0.08093806 0.08473842 0.08279014 0.07261575\n",
      " 0.0713169  0.07949489 0.07745039 0.07155743 0.07276007 0.07425135\n",
      " 0.07468431 0.07110042 0.07651233 0.07855683 0.08553217 0.08627781\n",
      " 0.09034275 0.09625977 0.10259771 0.09837643 0.10604931 0.09426934\n",
      " 0.09562525 0.0949958  0.09328326 0.09129016]\n",
      "5 day output [[0.08942803]]\n",
      "6 day input [0.06179194 0.06313891 0.06905592 0.07788334 0.07874925 0.07841251\n",
      " 0.07675286 0.08036079 0.08187613 0.07562237 0.0791341  0.0771377\n",
      " 0.07562237 0.09029465 0.09012628 0.09226699 0.08734817 0.0911365\n",
      " 0.09991581 0.09770295 0.10013229 0.11148527 0.10710764 0.10434155\n",
      " 0.1018641  0.09397474 0.09782321 0.08721587 0.09760673 0.10032471\n",
      " 0.09294047 0.09250752 0.09753458 0.0927721  0.08851473 0.09017438\n",
      " 0.10027661 0.11191822 0.11720986 0.12647023 0.1270475  0.12440168\n",
      " 0.11244738 0.10010824 0.10535177 0.10739627 0.10487072 0.11316897\n",
      " 0.11165364 0.11201443 0.10984967 0.10835839 0.10773301 0.10831028\n",
      " 0.10306675 0.09741431 0.09469633 0.09508118 0.0857727  0.08543596\n",
      " 0.08420926 0.07372219 0.07437162 0.09007817 0.08365604 0.07629585\n",
      " 0.07165364 0.07475646 0.06258569 0.07395069 0.07129284 0.07605532\n",
      " 0.0738184  0.08093806 0.08473842 0.08279014 0.07261575 0.0713169\n",
      " 0.07949489 0.07745039 0.07155743 0.07276007 0.07425135 0.07468431\n",
      " 0.07110042 0.07651233 0.07855683 0.08553217 0.08627781 0.09034275\n",
      " 0.09625977 0.10259771 0.09837643 0.10604931 0.09426934 0.09562525\n",
      " 0.0949958  0.09328326 0.09129016 0.08942803]\n",
      "6 day output [[0.08780923]]\n",
      "7 day input [0.06313891 0.06905592 0.07788334 0.07874925 0.07841251 0.07675286\n",
      " 0.08036079 0.08187613 0.07562237 0.0791341  0.0771377  0.07562237\n",
      " 0.09029465 0.09012628 0.09226699 0.08734817 0.0911365  0.09991581\n",
      " 0.09770295 0.10013229 0.11148527 0.10710764 0.10434155 0.1018641\n",
      " 0.09397474 0.09782321 0.08721587 0.09760673 0.10032471 0.09294047\n",
      " 0.09250752 0.09753458 0.0927721  0.08851473 0.09017438 0.10027661\n",
      " 0.11191822 0.11720986 0.12647023 0.1270475  0.12440168 0.11244738\n",
      " 0.10010824 0.10535177 0.10739627 0.10487072 0.11316897 0.11165364\n",
      " 0.11201443 0.10984967 0.10835839 0.10773301 0.10831028 0.10306675\n",
      " 0.09741431 0.09469633 0.09508118 0.0857727  0.08543596 0.08420926\n",
      " 0.07372219 0.07437162 0.09007817 0.08365604 0.07629585 0.07165364\n",
      " 0.07475646 0.06258569 0.07395069 0.07129284 0.07605532 0.0738184\n",
      " 0.08093806 0.08473842 0.08279014 0.07261575 0.0713169  0.07949489\n",
      " 0.07745039 0.07155743 0.07276007 0.07425135 0.07468431 0.07110042\n",
      " 0.07651233 0.07855683 0.08553217 0.08627781 0.09034275 0.09625977\n",
      " 0.10259771 0.09837643 0.10604931 0.09426934 0.09562525 0.0949958\n",
      " 0.09328326 0.09129016 0.08942803 0.08780923]\n",
      "7 day output [[0.08640803]]\n",
      "8 day input [0.06905592 0.07788334 0.07874925 0.07841251 0.07675286 0.08036079\n",
      " 0.08187613 0.07562237 0.0791341  0.0771377  0.07562237 0.09029465\n",
      " 0.09012628 0.09226699 0.08734817 0.0911365  0.09991581 0.09770295\n",
      " 0.10013229 0.11148527 0.10710764 0.10434155 0.1018641  0.09397474\n",
      " 0.09782321 0.08721587 0.09760673 0.10032471 0.09294047 0.09250752\n",
      " 0.09753458 0.0927721  0.08851473 0.09017438 0.10027661 0.11191822\n",
      " 0.11720986 0.12647023 0.1270475  0.12440168 0.11244738 0.10010824\n",
      " 0.10535177 0.10739627 0.10487072 0.11316897 0.11165364 0.11201443\n",
      " 0.10984967 0.10835839 0.10773301 0.10831028 0.10306675 0.09741431\n",
      " 0.09469633 0.09508118 0.0857727  0.08543596 0.08420926 0.07372219\n",
      " 0.07437162 0.09007817 0.08365604 0.07629585 0.07165364 0.07475646\n",
      " 0.06258569 0.07395069 0.07129284 0.07605532 0.0738184  0.08093806\n",
      " 0.08473842 0.08279014 0.07261575 0.0713169  0.07949489 0.07745039\n",
      " 0.07155743 0.07276007 0.07425135 0.07468431 0.07110042 0.07651233\n",
      " 0.07855683 0.08553217 0.08627781 0.09034275 0.09625977 0.10259771\n",
      " 0.09837643 0.10604931 0.09426934 0.09562525 0.0949958  0.09328326\n",
      " 0.09129016 0.08942803 0.08780923 0.08640803]\n"
     ]
    },
    {
     "name": "stdout",
     "output_type": "stream",
     "text": [
      "8 day output [[0.08516258]]\n",
      "9 day input [0.07788334 0.07874925 0.07841251 0.07675286 0.08036079 0.08187613\n",
      " 0.07562237 0.0791341  0.0771377  0.07562237 0.09029465 0.09012628\n",
      " 0.09226699 0.08734817 0.0911365  0.09991581 0.09770295 0.10013229\n",
      " 0.11148527 0.10710764 0.10434155 0.1018641  0.09397474 0.09782321\n",
      " 0.08721587 0.09760673 0.10032471 0.09294047 0.09250752 0.09753458\n",
      " 0.0927721  0.08851473 0.09017438 0.10027661 0.11191822 0.11720986\n",
      " 0.12647023 0.1270475  0.12440168 0.11244738 0.10010824 0.10535177\n",
      " 0.10739627 0.10487072 0.11316897 0.11165364 0.11201443 0.10984967\n",
      " 0.10835839 0.10773301 0.10831028 0.10306675 0.09741431 0.09469633\n",
      " 0.09508118 0.0857727  0.08543596 0.08420926 0.07372219 0.07437162\n",
      " 0.09007817 0.08365604 0.07629585 0.07165364 0.07475646 0.06258569\n",
      " 0.07395069 0.07129284 0.07605532 0.0738184  0.08093806 0.08473842\n",
      " 0.08279014 0.07261575 0.0713169  0.07949489 0.07745039 0.07155743\n",
      " 0.07276007 0.07425135 0.07468431 0.07110042 0.07651233 0.07855683\n",
      " 0.08553217 0.08627781 0.09034275 0.09625977 0.10259771 0.09837643\n",
      " 0.10604931 0.09426934 0.09562525 0.0949958  0.09328326 0.09129016\n",
      " 0.08942803 0.08780923 0.08640803 0.08516258]\n",
      "9 day output [[0.08401451]]\n",
      "10 day input [0.07874925 0.07841251 0.07675286 0.08036079 0.08187613 0.07562237\n",
      " 0.0791341  0.0771377  0.07562237 0.09029465 0.09012628 0.09226699\n",
      " 0.08734817 0.0911365  0.09991581 0.09770295 0.10013229 0.11148527\n",
      " 0.10710764 0.10434155 0.1018641  0.09397474 0.09782321 0.08721587\n",
      " 0.09760673 0.10032471 0.09294047 0.09250752 0.09753458 0.0927721\n",
      " 0.08851473 0.09017438 0.10027661 0.11191822 0.11720986 0.12647023\n",
      " 0.1270475  0.12440168 0.11244738 0.10010824 0.10535177 0.10739627\n",
      " 0.10487072 0.11316897 0.11165364 0.11201443 0.10984967 0.10835839\n",
      " 0.10773301 0.10831028 0.10306675 0.09741431 0.09469633 0.09508118\n",
      " 0.0857727  0.08543596 0.08420926 0.07372219 0.07437162 0.09007817\n",
      " 0.08365604 0.07629585 0.07165364 0.07475646 0.06258569 0.07395069\n",
      " 0.07129284 0.07605532 0.0738184  0.08093806 0.08473842 0.08279014\n",
      " 0.07261575 0.0713169  0.07949489 0.07745039 0.07155743 0.07276007\n",
      " 0.07425135 0.07468431 0.07110042 0.07651233 0.07855683 0.08553217\n",
      " 0.08627781 0.09034275 0.09625977 0.10259771 0.09837643 0.10604931\n",
      " 0.09426934 0.09562525 0.0949958  0.09328326 0.09129016 0.08942803\n",
      " 0.08780923 0.08640803 0.08516258 0.08401451]\n",
      "10 day output [[0.08291584]]\n",
      "11 day input [0.07841251 0.07675286 0.08036079 0.08187613 0.07562237 0.0791341\n",
      " 0.0771377  0.07562237 0.09029465 0.09012628 0.09226699 0.08734817\n",
      " 0.0911365  0.09991581 0.09770295 0.10013229 0.11148527 0.10710764\n",
      " 0.10434155 0.1018641  0.09397474 0.09782321 0.08721587 0.09760673\n",
      " 0.10032471 0.09294047 0.09250752 0.09753458 0.0927721  0.08851473\n",
      " 0.09017438 0.10027661 0.11191822 0.11720986 0.12647023 0.1270475\n",
      " 0.12440168 0.11244738 0.10010824 0.10535177 0.10739627 0.10487072\n",
      " 0.11316897 0.11165364 0.11201443 0.10984967 0.10835839 0.10773301\n",
      " 0.10831028 0.10306675 0.09741431 0.09469633 0.09508118 0.0857727\n",
      " 0.08543596 0.08420926 0.07372219 0.07437162 0.09007817 0.08365604\n",
      " 0.07629585 0.07165364 0.07475646 0.06258569 0.07395069 0.07129284\n",
      " 0.07605532 0.0738184  0.08093806 0.08473842 0.08279014 0.07261575\n",
      " 0.0713169  0.07949489 0.07745039 0.07155743 0.07276007 0.07425135\n",
      " 0.07468431 0.07110042 0.07651233 0.07855683 0.08553217 0.08627781\n",
      " 0.09034275 0.09625977 0.10259771 0.09837643 0.10604931 0.09426934\n",
      " 0.09562525 0.0949958  0.09328326 0.09129016 0.08942803 0.08780923\n",
      " 0.08640803 0.08516258 0.08401451 0.08291584]\n",
      "11 day output [[0.0818273]]\n",
      "12 day input [0.07675286 0.08036079 0.08187613 0.07562237 0.0791341  0.0771377\n",
      " 0.07562237 0.09029465 0.09012628 0.09226699 0.08734817 0.0911365\n",
      " 0.09991581 0.09770295 0.10013229 0.11148527 0.10710764 0.10434155\n",
      " 0.1018641  0.09397474 0.09782321 0.08721587 0.09760673 0.10032471\n",
      " 0.09294047 0.09250752 0.09753458 0.0927721  0.08851473 0.09017438\n",
      " 0.10027661 0.11191822 0.11720986 0.12647023 0.1270475  0.12440168\n",
      " 0.11244738 0.10010824 0.10535177 0.10739627 0.10487072 0.11316897\n",
      " 0.11165364 0.11201443 0.10984967 0.10835839 0.10773301 0.10831028\n",
      " 0.10306675 0.09741431 0.09469633 0.09508118 0.0857727  0.08543596\n",
      " 0.08420926 0.07372219 0.07437162 0.09007817 0.08365604 0.07629585\n",
      " 0.07165364 0.07475646 0.06258569 0.07395069 0.07129284 0.07605532\n",
      " 0.0738184  0.08093806 0.08473842 0.08279014 0.07261575 0.0713169\n",
      " 0.07949489 0.07745039 0.07155743 0.07276007 0.07425135 0.07468431\n",
      " 0.07110042 0.07651233 0.07855683 0.08553217 0.08627781 0.09034275\n",
      " 0.09625977 0.10259771 0.09837643 0.10604931 0.09426934 0.09562525\n",
      " 0.0949958  0.09328326 0.09129016 0.08942803 0.08780923 0.08640803\n",
      " 0.08516258 0.08401451 0.08291584 0.0818273 ]\n",
      "12 day output [[0.08071748]]\n",
      "13 day input [0.08036079 0.08187613 0.07562237 0.0791341  0.0771377  0.07562237\n",
      " 0.09029465 0.09012628 0.09226699 0.08734817 0.0911365  0.09991581\n",
      " 0.09770295 0.10013229 0.11148527 0.10710764 0.10434155 0.1018641\n",
      " 0.09397474 0.09782321 0.08721587 0.09760673 0.10032471 0.09294047\n",
      " 0.09250752 0.09753458 0.0927721  0.08851473 0.09017438 0.10027661\n",
      " 0.11191822 0.11720986 0.12647023 0.1270475  0.12440168 0.11244738\n",
      " 0.10010824 0.10535177 0.10739627 0.10487072 0.11316897 0.11165364\n",
      " 0.11201443 0.10984967 0.10835839 0.10773301 0.10831028 0.10306675\n",
      " 0.09741431 0.09469633 0.09508118 0.0857727  0.08543596 0.08420926\n",
      " 0.07372219 0.07437162 0.09007817 0.08365604 0.07629585 0.07165364\n",
      " 0.07475646 0.06258569 0.07395069 0.07129284 0.07605532 0.0738184\n",
      " 0.08093806 0.08473842 0.08279014 0.07261575 0.0713169  0.07949489\n",
      " 0.07745039 0.07155743 0.07276007 0.07425135 0.07468431 0.07110042\n",
      " 0.07651233 0.07855683 0.08553217 0.08627781 0.09034275 0.09625977\n",
      " 0.10259771 0.09837643 0.10604931 0.09426934 0.09562525 0.0949958\n",
      " 0.09328326 0.09129016 0.08942803 0.08780923 0.08640803 0.08516258\n",
      " 0.08401451 0.08291584 0.0818273  0.08071748]\n",
      "13 day output [[0.0795631]]\n",
      "14 day input [0.08187613 0.07562237 0.0791341  0.0771377  0.07562237 0.09029465\n",
      " 0.09012628 0.09226699 0.08734817 0.0911365  0.09991581 0.09770295\n",
      " 0.10013229 0.11148527 0.10710764 0.10434155 0.1018641  0.09397474\n",
      " 0.09782321 0.08721587 0.09760673 0.10032471 0.09294047 0.09250752\n",
      " 0.09753458 0.0927721  0.08851473 0.09017438 0.10027661 0.11191822\n",
      " 0.11720986 0.12647023 0.1270475  0.12440168 0.11244738 0.10010824\n",
      " 0.10535177 0.10739627 0.10487072 0.11316897 0.11165364 0.11201443\n",
      " 0.10984967 0.10835839 0.10773301 0.10831028 0.10306675 0.09741431\n",
      " 0.09469633 0.09508118 0.0857727  0.08543596 0.08420926 0.07372219\n",
      " 0.07437162 0.09007817 0.08365604 0.07629585 0.07165364 0.07475646\n",
      " 0.06258569 0.07395069 0.07129284 0.07605532 0.0738184  0.08093806\n",
      " 0.08473842 0.08279014 0.07261575 0.0713169  0.07949489 0.07745039\n",
      " 0.07155743 0.07276007 0.07425135 0.07468431 0.07110042 0.07651233\n",
      " 0.07855683 0.08553217 0.08627781 0.09034275 0.09625977 0.10259771\n",
      " 0.09837643 0.10604931 0.09426934 0.09562525 0.0949958  0.09328326\n",
      " 0.09129016 0.08942803 0.08780923 0.08640803 0.08516258 0.08401451\n",
      " 0.08291584 0.0818273  0.08071748 0.0795631 ]\n",
      "14 day output [[0.07834964]]\n",
      "15 day input [0.07562237 0.0791341  0.0771377  0.07562237 0.09029465 0.09012628\n",
      " 0.09226699 0.08734817 0.0911365  0.09991581 0.09770295 0.10013229\n",
      " 0.11148527 0.10710764 0.10434155 0.1018641  0.09397474 0.09782321\n",
      " 0.08721587 0.09760673 0.10032471 0.09294047 0.09250752 0.09753458\n",
      " 0.0927721  0.08851473 0.09017438 0.10027661 0.11191822 0.11720986\n",
      " 0.12647023 0.1270475  0.12440168 0.11244738 0.10010824 0.10535177\n",
      " 0.10739627 0.10487072 0.11316897 0.11165364 0.11201443 0.10984967\n",
      " 0.10835839 0.10773301 0.10831028 0.10306675 0.09741431 0.09469633\n",
      " 0.09508118 0.0857727  0.08543596 0.08420926 0.07372219 0.07437162\n",
      " 0.09007817 0.08365604 0.07629585 0.07165364 0.07475646 0.06258569\n",
      " 0.07395069 0.07129284 0.07605532 0.0738184  0.08093806 0.08473842\n",
      " 0.08279014 0.07261575 0.0713169  0.07949489 0.07745039 0.07155743\n",
      " 0.07276007 0.07425135 0.07468431 0.07110042 0.07651233 0.07855683\n",
      " 0.08553217 0.08627781 0.09034275 0.09625977 0.10259771 0.09837643\n",
      " 0.10604931 0.09426934 0.09562525 0.0949958  0.09328326 0.09129016\n",
      " 0.08942803 0.08780923 0.08640803 0.08516258 0.08401451 0.08291584\n",
      " 0.0818273  0.08071748 0.0795631  0.07834964]\n",
      "15 day output [[0.07707082]]\n",
      "16 day input [0.0791341  0.0771377  0.07562237 0.09029465 0.09012628 0.09226699\n",
      " 0.08734817 0.0911365  0.09991581 0.09770295 0.10013229 0.11148527\n",
      " 0.10710764 0.10434155 0.1018641  0.09397474 0.09782321 0.08721587\n",
      " 0.09760673 0.10032471 0.09294047 0.09250752 0.09753458 0.0927721\n",
      " 0.08851473 0.09017438 0.10027661 0.11191822 0.11720986 0.12647023\n",
      " 0.1270475  0.12440168 0.11244738 0.10010824 0.10535177 0.10739627\n",
      " 0.10487072 0.11316897 0.11165364 0.11201443 0.10984967 0.10835839\n",
      " 0.10773301 0.10831028 0.10306675 0.09741431 0.09469633 0.09508118\n",
      " 0.0857727  0.08543596 0.08420926 0.07372219 0.07437162 0.09007817\n",
      " 0.08365604 0.07629585 0.07165364 0.07475646 0.06258569 0.07395069\n",
      " 0.07129284 0.07605532 0.0738184  0.08093806 0.08473842 0.08279014\n",
      " 0.07261575 0.0713169  0.07949489 0.07745039 0.07155743 0.07276007\n",
      " 0.07425135 0.07468431 0.07110042 0.07651233 0.07855683 0.08553217\n",
      " 0.08627781 0.09034275 0.09625977 0.10259771 0.09837643 0.10604931\n",
      " 0.09426934 0.09562525 0.0949958  0.09328326 0.09129016 0.08942803\n",
      " 0.08780923 0.08640803 0.08516258 0.08401451 0.08291584 0.0818273\n",
      " 0.08071748 0.0795631  0.07834964 0.07707082]\n"
     ]
    },
    {
     "name": "stdout",
     "output_type": "stream",
     "text": [
      "16 day output [[0.07572705]]\n",
      "17 day input [0.0771377  0.07562237 0.09029465 0.09012628 0.09226699 0.08734817\n",
      " 0.0911365  0.09991581 0.09770295 0.10013229 0.11148527 0.10710764\n",
      " 0.10434155 0.1018641  0.09397474 0.09782321 0.08721587 0.09760673\n",
      " 0.10032471 0.09294047 0.09250752 0.09753458 0.0927721  0.08851473\n",
      " 0.09017438 0.10027661 0.11191822 0.11720986 0.12647023 0.1270475\n",
      " 0.12440168 0.11244738 0.10010824 0.10535177 0.10739627 0.10487072\n",
      " 0.11316897 0.11165364 0.11201443 0.10984967 0.10835839 0.10773301\n",
      " 0.10831028 0.10306675 0.09741431 0.09469633 0.09508118 0.0857727\n",
      " 0.08543596 0.08420926 0.07372219 0.07437162 0.09007817 0.08365604\n",
      " 0.07629585 0.07165364 0.07475646 0.06258569 0.07395069 0.07129284\n",
      " 0.07605532 0.0738184  0.08093806 0.08473842 0.08279014 0.07261575\n",
      " 0.0713169  0.07949489 0.07745039 0.07155743 0.07276007 0.07425135\n",
      " 0.07468431 0.07110042 0.07651233 0.07855683 0.08553217 0.08627781\n",
      " 0.09034275 0.09625977 0.10259771 0.09837643 0.10604931 0.09426934\n",
      " 0.09562525 0.0949958  0.09328326 0.09129016 0.08942803 0.08780923\n",
      " 0.08640803 0.08516258 0.08401451 0.08291584 0.0818273  0.08071748\n",
      " 0.0795631  0.07834964 0.07707082 0.07572705]\n",
      "17 day output [[0.07432358]]\n",
      "18 day input [0.07562237 0.09029465 0.09012628 0.09226699 0.08734817 0.0911365\n",
      " 0.09991581 0.09770295 0.10013229 0.11148527 0.10710764 0.10434155\n",
      " 0.1018641  0.09397474 0.09782321 0.08721587 0.09760673 0.10032471\n",
      " 0.09294047 0.09250752 0.09753458 0.0927721  0.08851473 0.09017438\n",
      " 0.10027661 0.11191822 0.11720986 0.12647023 0.1270475  0.12440168\n",
      " 0.11244738 0.10010824 0.10535177 0.10739627 0.10487072 0.11316897\n",
      " 0.11165364 0.11201443 0.10984967 0.10835839 0.10773301 0.10831028\n",
      " 0.10306675 0.09741431 0.09469633 0.09508118 0.0857727  0.08543596\n",
      " 0.08420926 0.07372219 0.07437162 0.09007817 0.08365604 0.07629585\n",
      " 0.07165364 0.07475646 0.06258569 0.07395069 0.07129284 0.07605532\n",
      " 0.0738184  0.08093806 0.08473842 0.08279014 0.07261575 0.0713169\n",
      " 0.07949489 0.07745039 0.07155743 0.07276007 0.07425135 0.07468431\n",
      " 0.07110042 0.07651233 0.07855683 0.08553217 0.08627781 0.09034275\n",
      " 0.09625977 0.10259771 0.09837643 0.10604931 0.09426934 0.09562525\n",
      " 0.0949958  0.09328326 0.09129016 0.08942803 0.08780923 0.08640803\n",
      " 0.08516258 0.08401451 0.08291584 0.0818273  0.08071748 0.0795631\n",
      " 0.07834964 0.07707082 0.07572705 0.07432358]\n",
      "18 day output [[0.07286843]]\n",
      "19 day input [0.09029465 0.09012628 0.09226699 0.08734817 0.0911365  0.09991581\n",
      " 0.09770295 0.10013229 0.11148527 0.10710764 0.10434155 0.1018641\n",
      " 0.09397474 0.09782321 0.08721587 0.09760673 0.10032471 0.09294047\n",
      " 0.09250752 0.09753458 0.0927721  0.08851473 0.09017438 0.10027661\n",
      " 0.11191822 0.11720986 0.12647023 0.1270475  0.12440168 0.11244738\n",
      " 0.10010824 0.10535177 0.10739627 0.10487072 0.11316897 0.11165364\n",
      " 0.11201443 0.10984967 0.10835839 0.10773301 0.10831028 0.10306675\n",
      " 0.09741431 0.09469633 0.09508118 0.0857727  0.08543596 0.08420926\n",
      " 0.07372219 0.07437162 0.09007817 0.08365604 0.07629585 0.07165364\n",
      " 0.07475646 0.06258569 0.07395069 0.07129284 0.07605532 0.0738184\n",
      " 0.08093806 0.08473842 0.08279014 0.07261575 0.0713169  0.07949489\n",
      " 0.07745039 0.07155743 0.07276007 0.07425135 0.07468431 0.07110042\n",
      " 0.07651233 0.07855683 0.08553217 0.08627781 0.09034275 0.09625977\n",
      " 0.10259771 0.09837643 0.10604931 0.09426934 0.09562525 0.0949958\n",
      " 0.09328326 0.09129016 0.08942803 0.08780923 0.08640803 0.08516258\n",
      " 0.08401451 0.08291584 0.0818273  0.08071748 0.0795631  0.07834964\n",
      " 0.07707082 0.07572705 0.07432358 0.07286843]\n",
      "19 day output [[0.07137042]]\n",
      "20 day input [0.09012628 0.09226699 0.08734817 0.0911365  0.09991581 0.09770295\n",
      " 0.10013229 0.11148527 0.10710764 0.10434155 0.1018641  0.09397474\n",
      " 0.09782321 0.08721587 0.09760673 0.10032471 0.09294047 0.09250752\n",
      " 0.09753458 0.0927721  0.08851473 0.09017438 0.10027661 0.11191822\n",
      " 0.11720986 0.12647023 0.1270475  0.12440168 0.11244738 0.10010824\n",
      " 0.10535177 0.10739627 0.10487072 0.11316897 0.11165364 0.11201443\n",
      " 0.10984967 0.10835839 0.10773301 0.10831028 0.10306675 0.09741431\n",
      " 0.09469633 0.09508118 0.0857727  0.08543596 0.08420926 0.07372219\n",
      " 0.07437162 0.09007817 0.08365604 0.07629585 0.07165364 0.07475646\n",
      " 0.06258569 0.07395069 0.07129284 0.07605532 0.0738184  0.08093806\n",
      " 0.08473842 0.08279014 0.07261575 0.0713169  0.07949489 0.07745039\n",
      " 0.07155743 0.07276007 0.07425135 0.07468431 0.07110042 0.07651233\n",
      " 0.07855683 0.08553217 0.08627781 0.09034275 0.09625977 0.10259771\n",
      " 0.09837643 0.10604931 0.09426934 0.09562525 0.0949958  0.09328326\n",
      " 0.09129016 0.08942803 0.08780923 0.08640803 0.08516258 0.08401451\n",
      " 0.08291584 0.0818273  0.08071748 0.0795631  0.07834964 0.07707082\n",
      " 0.07572705 0.07432358 0.07286843 0.07137042]\n",
      "20 day output [[0.06983815]]\n",
      "21 day input [0.09226699 0.08734817 0.0911365  0.09991581 0.09770295 0.10013229\n",
      " 0.11148527 0.10710764 0.10434155 0.1018641  0.09397474 0.09782321\n",
      " 0.08721587 0.09760673 0.10032471 0.09294047 0.09250752 0.09753458\n",
      " 0.0927721  0.08851473 0.09017438 0.10027661 0.11191822 0.11720986\n",
      " 0.12647023 0.1270475  0.12440168 0.11244738 0.10010824 0.10535177\n",
      " 0.10739627 0.10487072 0.11316897 0.11165364 0.11201443 0.10984967\n",
      " 0.10835839 0.10773301 0.10831028 0.10306675 0.09741431 0.09469633\n",
      " 0.09508118 0.0857727  0.08543596 0.08420926 0.07372219 0.07437162\n",
      " 0.09007817 0.08365604 0.07629585 0.07165364 0.07475646 0.06258569\n",
      " 0.07395069 0.07129284 0.07605532 0.0738184  0.08093806 0.08473842\n",
      " 0.08279014 0.07261575 0.0713169  0.07949489 0.07745039 0.07155743\n",
      " 0.07276007 0.07425135 0.07468431 0.07110042 0.07651233 0.07855683\n",
      " 0.08553217 0.08627781 0.09034275 0.09625977 0.10259771 0.09837643\n",
      " 0.10604931 0.09426934 0.09562525 0.0949958  0.09328326 0.09129016\n",
      " 0.08942803 0.08780923 0.08640803 0.08516258 0.08401451 0.08291584\n",
      " 0.0818273  0.08071748 0.0795631  0.07834964 0.07707082 0.07572705\n",
      " 0.07432358 0.07286843 0.07137042 0.06983815]\n",
      "21 day output [[0.06827881]]\n",
      "22 day input [0.08734817 0.0911365  0.09991581 0.09770295 0.10013229 0.11148527\n",
      " 0.10710764 0.10434155 0.1018641  0.09397474 0.09782321 0.08721587\n",
      " 0.09760673 0.10032471 0.09294047 0.09250752 0.09753458 0.0927721\n",
      " 0.08851473 0.09017438 0.10027661 0.11191822 0.11720986 0.12647023\n",
      " 0.1270475  0.12440168 0.11244738 0.10010824 0.10535177 0.10739627\n",
      " 0.10487072 0.11316897 0.11165364 0.11201443 0.10984967 0.10835839\n",
      " 0.10773301 0.10831028 0.10306675 0.09741431 0.09469633 0.09508118\n",
      " 0.0857727  0.08543596 0.08420926 0.07372219 0.07437162 0.09007817\n",
      " 0.08365604 0.07629585 0.07165364 0.07475646 0.06258569 0.07395069\n",
      " 0.07129284 0.07605532 0.0738184  0.08093806 0.08473842 0.08279014\n",
      " 0.07261575 0.0713169  0.07949489 0.07745039 0.07155743 0.07276007\n",
      " 0.07425135 0.07468431 0.07110042 0.07651233 0.07855683 0.08553217\n",
      " 0.08627781 0.09034275 0.09625977 0.10259771 0.09837643 0.10604931\n",
      " 0.09426934 0.09562525 0.0949958  0.09328326 0.09129016 0.08942803\n",
      " 0.08780923 0.08640803 0.08516258 0.08401451 0.08291584 0.0818273\n",
      " 0.08071748 0.0795631  0.07834964 0.07707082 0.07572705 0.07432358\n",
      " 0.07286843 0.07137042 0.06983815 0.06827881]\n",
      "22 day output [[0.06669778]]\n",
      "23 day input [0.0911365  0.09991581 0.09770295 0.10013229 0.11148527 0.10710764\n",
      " 0.10434155 0.1018641  0.09397474 0.09782321 0.08721587 0.09760673\n",
      " 0.10032471 0.09294047 0.09250752 0.09753458 0.0927721  0.08851473\n",
      " 0.09017438 0.10027661 0.11191822 0.11720986 0.12647023 0.1270475\n",
      " 0.12440168 0.11244738 0.10010824 0.10535177 0.10739627 0.10487072\n",
      " 0.11316897 0.11165364 0.11201443 0.10984967 0.10835839 0.10773301\n",
      " 0.10831028 0.10306675 0.09741431 0.09469633 0.09508118 0.0857727\n",
      " 0.08543596 0.08420926 0.07372219 0.07437162 0.09007817 0.08365604\n",
      " 0.07629585 0.07165364 0.07475646 0.06258569 0.07395069 0.07129284\n",
      " 0.07605532 0.0738184  0.08093806 0.08473842 0.08279014 0.07261575\n",
      " 0.0713169  0.07949489 0.07745039 0.07155743 0.07276007 0.07425135\n",
      " 0.07468431 0.07110042 0.07651233 0.07855683 0.08553217 0.08627781\n",
      " 0.09034275 0.09625977 0.10259771 0.09837643 0.10604931 0.09426934\n",
      " 0.09562525 0.0949958  0.09328326 0.09129016 0.08942803 0.08780923\n",
      " 0.08640803 0.08516258 0.08401451 0.08291584 0.0818273  0.08071748\n",
      " 0.0795631  0.07834964 0.07707082 0.07572705 0.07432358 0.07286843\n",
      " 0.07137042 0.06983815 0.06827881 0.06669778]\n",
      "23 day output [[0.06509871]]\n",
      "24 day input [0.09991581 0.09770295 0.10013229 0.11148527 0.10710764 0.10434155\n",
      " 0.1018641  0.09397474 0.09782321 0.08721587 0.09760673 0.10032471\n",
      " 0.09294047 0.09250752 0.09753458 0.0927721  0.08851473 0.09017438\n",
      " 0.10027661 0.11191822 0.11720986 0.12647023 0.1270475  0.12440168\n",
      " 0.11244738 0.10010824 0.10535177 0.10739627 0.10487072 0.11316897\n",
      " 0.11165364 0.11201443 0.10984967 0.10835839 0.10773301 0.10831028\n",
      " 0.10306675 0.09741431 0.09469633 0.09508118 0.0857727  0.08543596\n",
      " 0.08420926 0.07372219 0.07437162 0.09007817 0.08365604 0.07629585\n",
      " 0.07165364 0.07475646 0.06258569 0.07395069 0.07129284 0.07605532\n",
      " 0.0738184  0.08093806 0.08473842 0.08279014 0.07261575 0.0713169\n",
      " 0.07949489 0.07745039 0.07155743 0.07276007 0.07425135 0.07468431\n",
      " 0.07110042 0.07651233 0.07855683 0.08553217 0.08627781 0.09034275\n",
      " 0.09625977 0.10259771 0.09837643 0.10604931 0.09426934 0.09562525\n",
      " 0.0949958  0.09328326 0.09129016 0.08942803 0.08780923 0.08640803\n",
      " 0.08516258 0.08401451 0.08291584 0.0818273  0.08071748 0.0795631\n",
      " 0.07834964 0.07707082 0.07572705 0.07432358 0.07286843 0.07137042\n",
      " 0.06983815 0.06827881 0.06669778 0.06509871]\n"
     ]
    },
    {
     "name": "stdout",
     "output_type": "stream",
     "text": [
      "24 day output [[0.06348342]]\n",
      "25 day input [0.09770295 0.10013229 0.11148527 0.10710764 0.10434155 0.1018641\n",
      " 0.09397474 0.09782321 0.08721587 0.09760673 0.10032471 0.09294047\n",
      " 0.09250752 0.09753458 0.0927721  0.08851473 0.09017438 0.10027661\n",
      " 0.11191822 0.11720986 0.12647023 0.1270475  0.12440168 0.11244738\n",
      " 0.10010824 0.10535177 0.10739627 0.10487072 0.11316897 0.11165364\n",
      " 0.11201443 0.10984967 0.10835839 0.10773301 0.10831028 0.10306675\n",
      " 0.09741431 0.09469633 0.09508118 0.0857727  0.08543596 0.08420926\n",
      " 0.07372219 0.07437162 0.09007817 0.08365604 0.07629585 0.07165364\n",
      " 0.07475646 0.06258569 0.07395069 0.07129284 0.07605532 0.0738184\n",
      " 0.08093806 0.08473842 0.08279014 0.07261575 0.0713169  0.07949489\n",
      " 0.07745039 0.07155743 0.07276007 0.07425135 0.07468431 0.07110042\n",
      " 0.07651233 0.07855683 0.08553217 0.08627781 0.09034275 0.09625977\n",
      " 0.10259771 0.09837643 0.10604931 0.09426934 0.09562525 0.0949958\n",
      " 0.09328326 0.09129016 0.08942803 0.08780923 0.08640803 0.08516258\n",
      " 0.08401451 0.08291584 0.0818273  0.08071748 0.0795631  0.07834964\n",
      " 0.07707082 0.07572705 0.07432358 0.07286843 0.07137042 0.06983815\n",
      " 0.06827881 0.06669778 0.06509871 0.06348342]\n",
      "25 day output [[0.06185234]]\n",
      "26 day input [0.10013229 0.11148527 0.10710764 0.10434155 0.1018641  0.09397474\n",
      " 0.09782321 0.08721587 0.09760673 0.10032471 0.09294047 0.09250752\n",
      " 0.09753458 0.0927721  0.08851473 0.09017438 0.10027661 0.11191822\n",
      " 0.11720986 0.12647023 0.1270475  0.12440168 0.11244738 0.10010824\n",
      " 0.10535177 0.10739627 0.10487072 0.11316897 0.11165364 0.11201443\n",
      " 0.10984967 0.10835839 0.10773301 0.10831028 0.10306675 0.09741431\n",
      " 0.09469633 0.09508118 0.0857727  0.08543596 0.08420926 0.07372219\n",
      " 0.07437162 0.09007817 0.08365604 0.07629585 0.07165364 0.07475646\n",
      " 0.06258569 0.07395069 0.07129284 0.07605532 0.0738184  0.08093806\n",
      " 0.08473842 0.08279014 0.07261575 0.0713169  0.07949489 0.07745039\n",
      " 0.07155743 0.07276007 0.07425135 0.07468431 0.07110042 0.07651233\n",
      " 0.07855683 0.08553217 0.08627781 0.09034275 0.09625977 0.10259771\n",
      " 0.09837643 0.10604931 0.09426934 0.09562525 0.0949958  0.09328326\n",
      " 0.09129016 0.08942803 0.08780923 0.08640803 0.08516258 0.08401451\n",
      " 0.08291584 0.0818273  0.08071748 0.0795631  0.07834964 0.07707082\n",
      " 0.07572705 0.07432358 0.07286843 0.07137042 0.06983815 0.06827881\n",
      " 0.06669778 0.06509871 0.06348342 0.06185234]\n",
      "26 day output [[0.06020479]]\n",
      "27 day input [0.11148527 0.10710764 0.10434155 0.1018641  0.09397474 0.09782321\n",
      " 0.08721587 0.09760673 0.10032471 0.09294047 0.09250752 0.09753458\n",
      " 0.0927721  0.08851473 0.09017438 0.10027661 0.11191822 0.11720986\n",
      " 0.12647023 0.1270475  0.12440168 0.11244738 0.10010824 0.10535177\n",
      " 0.10739627 0.10487072 0.11316897 0.11165364 0.11201443 0.10984967\n",
      " 0.10835839 0.10773301 0.10831028 0.10306675 0.09741431 0.09469633\n",
      " 0.09508118 0.0857727  0.08543596 0.08420926 0.07372219 0.07437162\n",
      " 0.09007817 0.08365604 0.07629585 0.07165364 0.07475646 0.06258569\n",
      " 0.07395069 0.07129284 0.07605532 0.0738184  0.08093806 0.08473842\n",
      " 0.08279014 0.07261575 0.0713169  0.07949489 0.07745039 0.07155743\n",
      " 0.07276007 0.07425135 0.07468431 0.07110042 0.07651233 0.07855683\n",
      " 0.08553217 0.08627781 0.09034275 0.09625977 0.10259771 0.09837643\n",
      " 0.10604931 0.09426934 0.09562525 0.0949958  0.09328326 0.09129016\n",
      " 0.08942803 0.08780923 0.08640803 0.08516258 0.08401451 0.08291584\n",
      " 0.0818273  0.08071748 0.0795631  0.07834964 0.07707082 0.07572705\n",
      " 0.07432358 0.07286843 0.07137042 0.06983815 0.06827881 0.06669778\n",
      " 0.06509871 0.06348342 0.06185234 0.06020479]\n",
      "27 day output [[0.05853949]]\n",
      "28 day input [0.10710764 0.10434155 0.1018641  0.09397474 0.09782321 0.08721587\n",
      " 0.09760673 0.10032471 0.09294047 0.09250752 0.09753458 0.0927721\n",
      " 0.08851473 0.09017438 0.10027661 0.11191822 0.11720986 0.12647023\n",
      " 0.1270475  0.12440168 0.11244738 0.10010824 0.10535177 0.10739627\n",
      " 0.10487072 0.11316897 0.11165364 0.11201443 0.10984967 0.10835839\n",
      " 0.10773301 0.10831028 0.10306675 0.09741431 0.09469633 0.09508118\n",
      " 0.0857727  0.08543596 0.08420926 0.07372219 0.07437162 0.09007817\n",
      " 0.08365604 0.07629585 0.07165364 0.07475646 0.06258569 0.07395069\n",
      " 0.07129284 0.07605532 0.0738184  0.08093806 0.08473842 0.08279014\n",
      " 0.07261575 0.0713169  0.07949489 0.07745039 0.07155743 0.07276007\n",
      " 0.07425135 0.07468431 0.07110042 0.07651233 0.07855683 0.08553217\n",
      " 0.08627781 0.09034275 0.09625977 0.10259771 0.09837643 0.10604931\n",
      " 0.09426934 0.09562525 0.0949958  0.09328326 0.09129016 0.08942803\n",
      " 0.08780923 0.08640803 0.08516258 0.08401451 0.08291584 0.0818273\n",
      " 0.08071748 0.0795631  0.07834964 0.07707082 0.07572705 0.07432358\n",
      " 0.07286843 0.07137042 0.06983815 0.06827881 0.06669778 0.06509871\n",
      " 0.06348342 0.06185234 0.06020479 0.05853949]\n",
      "28 day output [[0.0568547]]\n",
      "29 day input [0.10434155 0.1018641  0.09397474 0.09782321 0.08721587 0.09760673\n",
      " 0.10032471 0.09294047 0.09250752 0.09753458 0.0927721  0.08851473\n",
      " 0.09017438 0.10027661 0.11191822 0.11720986 0.12647023 0.1270475\n",
      " 0.12440168 0.11244738 0.10010824 0.10535177 0.10739627 0.10487072\n",
      " 0.11316897 0.11165364 0.11201443 0.10984967 0.10835839 0.10773301\n",
      " 0.10831028 0.10306675 0.09741431 0.09469633 0.09508118 0.0857727\n",
      " 0.08543596 0.08420926 0.07372219 0.07437162 0.09007817 0.08365604\n",
      " 0.07629585 0.07165364 0.07475646 0.06258569 0.07395069 0.07129284\n",
      " 0.07605532 0.0738184  0.08093806 0.08473842 0.08279014 0.07261575\n",
      " 0.0713169  0.07949489 0.07745039 0.07155743 0.07276007 0.07425135\n",
      " 0.07468431 0.07110042 0.07651233 0.07855683 0.08553217 0.08627781\n",
      " 0.09034275 0.09625977 0.10259771 0.09837643 0.10604931 0.09426934\n",
      " 0.09562525 0.0949958  0.09328326 0.09129016 0.08942803 0.08780923\n",
      " 0.08640803 0.08516258 0.08401451 0.08291584 0.0818273  0.08071748\n",
      " 0.0795631  0.07834964 0.07707082 0.07572705 0.07432358 0.07286843\n",
      " 0.07137042 0.06983815 0.06827881 0.06669778 0.06509871 0.06348342\n",
      " 0.06185234 0.06020479 0.05853949 0.0568547 ]\n",
      "29 day output [[0.05514874]]\n",
      "[[0.09426934272050858], [0.09562525153160095], [0.09499579668045044], [0.0932832583785057], [0.09129016101360321], [0.08942802995443344], [0.0878092348575592], [0.08640802651643753], [0.08516258001327515], [0.08401451259851456], [0.08291583508253098], [0.08182729780673981], [0.08071748167276382], [0.07956310361623764], [0.07834964245557785], [0.07707081735134125], [0.07572705298662186], [0.07432357966899872], [0.07286842912435532], [0.07137042284011841], [0.06983815133571625], [0.06827881187200546], [0.06669777631759644], [0.06509871035814285], [0.06348341703414917], [0.061852335929870605], [0.06020478904247284], [0.0585394948720932], [0.056854695081710815], [0.05514874309301376]]\n"
     ]
    }
   ],
   "source": [
    "from numpy import array\n",
    "lst_output=[]\n",
    "n_steps=100\n",
    "i=0\n",
    "while(i<30):\n",
    "    if(len(temp_input)>100):\n",
    "        x_input= np.array(temp_input[1:])\n",
    "        print(\"{} day input {}\".format(i,x_input))\n",
    "        x_input=x_input.reshape(1,-1)\n",
    "        x_input= x_input.reshape((1,n_steps,1))\n",
    "        yhat= regressor.predict(x_input, verbose=0)\n",
    "        print(\"{} day output {}\".format(i,yhat))\n",
    "        temp_input.extend(yhat[0].tolist())\n",
    "        temp_input=temp_input[1:]\n",
    "        lst_output.extend(yhat.tolist())\n",
    "        i=i+1\n",
    "    else:\n",
    "        x_input= x_input.reshape((1,n_steps,1))\n",
    "        yhat= regressor.predict(x_input, verbose=0)\n",
    "        print(yhat[0])\n",
    "        temp_input.extend(yhat[0].tolist())\n",
    "        print(len(temp_input))\n",
    "        lst_output.extend(yhat.tolist())\n",
    "        i=i+1\n",
    "        \n",
    "        \n",
    "print(lst_output)        "
   ]
  },
  {
   "cell_type": "code",
   "execution_count": 36,
   "id": "8e391b89",
   "metadata": {},
   "outputs": [],
   "source": [
    "day_new=np.arange(1,101)\n",
    "day_pred= np.arange(101,131)"
   ]
  },
  {
   "cell_type": "code",
   "execution_count": 37,
   "id": "6483ba7d",
   "metadata": {},
   "outputs": [
    {
     "data": {
      "text/plain": [
       "1257"
      ]
     },
     "execution_count": 37,
     "metadata": {},
     "output_type": "execute_result"
    }
   ],
   "source": [
    "len(appl_data1_scaled)"
   ]
  },
  {
   "cell_type": "code",
   "execution_count": 38,
   "id": "0a3b953e",
   "metadata": {},
   "outputs": [],
   "source": [
    "df3=appl_data1_scaled.tolist()\n",
    "df3.extend(lst_output)"
   ]
  },
  {
   "cell_type": "code",
   "execution_count": 39,
   "id": "ffae3d75",
   "metadata": {},
   "outputs": [
    {
     "data": {
      "text/plain": [
       "[<matplotlib.lines.Line2D at 0x249cf2b9850>]"
      ]
     },
     "execution_count": 39,
     "metadata": {},
     "output_type": "execute_result"
    },
    {
     "data": {
      "image/png": "[encoded data removed]",
      "text/plain": [
       "<Figure size 432x288 with 1 Axes>"
      ]
     },
     "metadata": {
      "needs_background": "light"
     },
     "output_type": "display_data"
    }
   ],
   "source": [
    "plt.plot(day_new,scaler.inverse_transform(appl_data1_scaled[1157:]))\n",
    "plt.plot(day_pred,scaler.inverse_transform(lst_output))"
   ]
  },
  {
   "cell_type": "code",
   "execution_count": 40,
   "id": "9539c979",
   "metadata": {},
   "outputs": [
    {
     "data": {
      "text/plain": [
       "[<matplotlib.lines.Line2D at 0x249cf1d8e50>]"
      ]
     },
     "execution_count": 40,
     "metadata": {},
     "output_type": "execute_result"
    },
    {
     "data": {
      "image/png": "[encoded data removed]",
      "text/plain": [
       "<Figure size 432x288 with 1 Axes>"
      ]
     },
     "metadata": {
      "needs_background": "light"
     },
     "output_type": "display_data"
    }
   ],
   "source": [
    "df3=appl_data1_scaled.tolist()\n",
    "df3.extend(lst_output)\n",
    "plt.plot(df3[1200:])"
   ]
  },
  {
   "cell_type": "code",
   "execution_count": 41,
   "id": "1232f972",
   "metadata": {},
   "outputs": [
    {
     "data": {
      "text/plain": [
       "[<matplotlib.lines.Line2D at 0x249cf31cf40>]"
      ]
     },
     "execution_count": 41,
     "metadata": {},
     "output_type": "execute_result"
    },
    {
     "data": {
      "image/png": "[encoded data removed]",
      "text/plain": [
       "<Figure size 432x288 with 1 Axes>"
      ]
     },
     "metadata": {
      "needs_background": "light"
     },
     "output_type": "display_data"
    }
   ],
   "source": [
    "df3= scaler.inverse_transform(df3).tolist()\n",
    "plt.plot(df3)"
   ]
  },
  {
   "cell_type": "code",
   "execution_count": null,
   "id": "7c907fba",
   "metadata": {},
   "outputs": [],
   "source": []
  }
 ],
 "metadata": {
  "kernelspec": {
   "display_name": "Python 3",
   "language": "python",
   "name": "python3"
  },
  "language_info": {
   "codemirror_mode": {
    "name": "ipython",
    "version": 3
   },
   "file_extension": ".py",
   "mimetype": "text/x-python",
   "name": "python",
   "nbconvert_exporter": "python",
   "pygments_lexer": "ipython3",
   "version": "3.8.8"
  }
 },
 "nbformat": 4,
 "nbformat_minor": 5
}
